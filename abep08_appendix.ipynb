{
  "nbformat": 4,
  "nbformat_minor": 0,
  "metadata": {
    "colab": {
      "name": "abep08_1.ipynb",
      "provenance": [],
      "authorship_tag": "ABX9TyNoqwUi3C8wPfST0fKdRadL",
      "include_colab_link": true
    },
    "kernelspec": {
      "name": "python3",
      "display_name": "Python 3"
    },
    "language_info": {
      "name": "python"
    },
    "accelerator": "GPU"
  },
  "cells": [
    {
      "cell_type": "markdown",
      "metadata": {
        "id": "view-in-github",
        "colab_type": "text"
      },
      "source": [
        "<a href=\"https://colab.research.google.com/github/KwonDoRyoung/AdvancedBasicEducationProgram/blob/main/abep08_appendix.ipynb\" target=\"_parent\"><img src=\"https://colab.research.google.com/assets/colab-badge.svg\" alt=\"Open In Colab\"/></a>"
      ]
    },
    {
      "cell_type": "code",
      "execution_count": null,
      "metadata": {
        "id": "VdJKQC41Q8-r"
      },
      "outputs": [],
      "source": [
        "import torch # Deep learning 패키지 (선형, 기계학습...)\n",
        "import torch.nn as nn # Neural Network 모델을 생성하기 .nn\n",
        "# \n",
        "class SLP(nn.Module): \n",
        "  # 상속을 통해서 역전파를 자동 계산 & 데이터를 입력, 출력\n",
        "  def __init__(self,):\n",
        "    super(SLP, self).__init__() # 상속하게 되면 무조건 넣어줘야됨\n",
        "    # class 가 선언되면 바로 실행되는 부분\n",
        "    # 입력되는 데이터가 10개의 정보를 가지고 있다. \n",
        "    # x = [[x1, ..., x10], [x1, ..., x10], [x1, ..., x10],...,[x1, ..., x10]] ; nx10\n",
        "    # W = [w1, ..., w10]^T ; 10x1\n",
        "    # x @ W <- @ 행렬곱 연산자 ; 1x1\n",
        "    # Weight <- 10x1\n",
        "    self.layer = nn.Linear(10, 1, bias=False) # W 가 포함되어있음\n",
        "    self.activation = nn.Sigmoid() # 선언\n",
        "  \n",
        "  def forward(self, inputs): # 정방향 \n",
        "    outputs = self.layer(inputs)  # x @ W 실행\n",
        "    # print(f\"forward: {outputs}\")\n",
        "    outputs = self.activation(outputs)\n",
        "    # print(f\"act: {outputs}\")\n",
        "    return outputs"
      ]
    },
    {
      "cell_type": "code",
      "source": [
        "m = SLP() # ?? \n",
        "\n",
        "x = torch.ones([1, 10]) # data batch size = 1\n",
        "o = m(x) # m(SLP class 를 선언받은) forward 함수를 호출함.\n",
        "print(f\"single layer perceptron output: {o.size()}\")"
      ],
      "metadata": {
        "colab": {
          "base_uri": "https://localhost:8080/"
        },
        "id": "0T_mE4S7U4eP",
        "outputId": "22ea8d2c-b37e-4267-83f8-2f9137a4987b"
      },
      "execution_count": null,
      "outputs": [
        {
          "output_type": "stream",
          "name": "stdout",
          "text": [
            "single layer perceptron output: torch.Size([1, 1])\n"
          ]
        }
      ]
    },
    {
      "cell_type": "code",
      "source": [
        "# x = torch.rand([1, 10]) # 1개의 데이터를 가지고 한거에요.\n",
        "# 전체 데이터가 100개 dataset\n",
        "x = torch.rand([100, 10]) # 가정 rand 데이터를 만든거에요.\n",
        "print(x.size())\n",
        "\n",
        "# x : 100x10, w: 10x1 -> 행렬 연산 100x1 x@w\n",
        "o = m(x) # 위에서 선언되어있음.\n",
        "print(f\"데이터셋 100개: {o.size()}\")\n",
        "# 입력 데이터에 사이즈에서 맨앞의 숫자는 Batch 크기 \n",
        "# (= 입력되는 데이터의 개수)다.\n",
        "#  사이즈에서 2번째가 의미하는 것은 데이터의 정보(Feature 특징)의 개수\n",
        "# 총 데이터 개수는 10, 데이터의 정보개수는 3\n",
        "# 학생1: 키, 몸무게, 성별\n",
        "# 학생2\n",
        "# 학생3\n",
        "# ...\n",
        "# 학생10\n",
        "# 총 데이터 x 특징정보\n",
        "\n",
        "# mnist 총 데이터 x (chanel x h x w)\n",
        "# 3d image -> 1d vector flatten ???"
      ],
      "metadata": {
        "colab": {
          "base_uri": "https://localhost:8080/"
        },
        "id": "TSbk5obrVAQH",
        "outputId": "dbaa2f4d-d346-4c91-a8a0-7ad33098df78"
      },
      "execution_count": null,
      "outputs": [
        {
          "output_type": "stream",
          "name": "stdout",
          "text": [
            "torch.Size([100, 10])\n",
            "데이터셋 100개: torch.Size([100, 1])\n"
          ]
        }
      ]
    },
    {
      "cell_type": "code",
      "source": [
        "import torch\n",
        "import torch.nn as nn\n",
        "\n",
        "# 데이터의 정보개수가 28x28=784\n",
        "# 총 데이터가 6만개\n",
        "class MLP(nn.Module): \n",
        "  def __init__(self,):\n",
        "    super(MLP, self).__init__()\n",
        "    # 1st layer 선언\n",
        "    self.layer1 = nn.Linear(784, 100, bias=False) # 100 이라는 숫자를 바꾸면서\n",
        "    self.activation1 = nn.Sigmoid() # ReLU\n",
        "    # 2nd layer 선언\n",
        "    self.layer2 = nn.Linear(100, 10, bias=False)\n",
        "    self.activation2 = nn.Sigmoid()\n",
        "    # 3rd layer 선언\n",
        "    self.layer3 = nn.Linear(10, 1, bias=False)\n",
        "    self.activation3 = nn.Sigmoid()\n",
        "  \n",
        "  def forward(self, inputs):\n",
        "    # 1st layer 입력\n",
        "    outputs = self.layer1(inputs)\n",
        "    outputs = self.activation1(outputs)\n",
        "    print(f\"layer1: {outputs.size()}\")\n",
        "    # 2nd layer 입력\n",
        "    outputs = self.layer2(outputs)\n",
        "    outputs = self.activation2(outputs)\n",
        "    # 3rd layer 입력\n",
        "    outputs = self.layer3(outputs)\n",
        "    outputs = self.activation3(outputs)\n",
        "    return outputs"
      ],
      "metadata": {
        "id": "gJbGRy51c1QV"
      },
      "execution_count": 20,
      "outputs": []
    },
    {
      "cell_type": "code",
      "source": [
        "\n",
        "x0 = torch.rand([1, 784])\n",
        "o = model2(x0)"
      ],
      "metadata": {
        "colab": {
          "base_uri": "https://localhost:8080/"
        },
        "id": "aSPEpRyQgUQ1",
        "outputId": "2ab263e8-55a0-49a5-d71b-7986ac88c03d"
      },
      "execution_count": null,
      "outputs": [
        {
          "output_type": "stream",
          "name": "stdout",
          "text": [
            "layer1: torch.Size([1, 100])\n"
          ]
        }
      ]
    },
    {
      "cell_type": "code",
      "source": [
        "# 데이터를 호출.\n",
        "# 1단계: pytorch 제공하는 함수를 활용 <- 오늘\n",
        "# 2단계: 일반적인 데이터를 가공하고 활용 <- \n",
        "\n",
        "# 학습\n",
        "# \n",
        "# MNIST\n",
        " - 총 데이터 60000개\n",
        " - 데이터의 구조는 (1,28,28), label) > (channel, height, width) , target \n",
        "\n",
        "# 60000만개 Batch learning:  batch size = 60000  데이터 전체를 보기 위해 실행해야될 횟수: 1번 \n",
        "#. - 한계: 자원 부족, 연산도 어려움, 학습이 잘 안된다.\n",
        "# 60개씩 나눠서 학습 mini batch learning : batch size = 60. 데이터 전체를 보기 위해 실행해야될 횟수: 1000번\n",
        "#. - 장점: 부하가 덜하다. 자원을 효율적으로 분배해서 학습할 수 잇다. 실수가 적어지고.\n",
        "# 10개씩 나눠서 학습 batch size = 10 데이터 전체를 보기 위해 실행해야될 횟수: 6000번\n",
        "#. - 단점: 비효율적이다. 50명은 거뜬히 할 수 있는데 ... , 편향 a b c d e f ...\n",
        "\n",
        "3 batch size \n",
        "data = [1,2,3,,9,0,1,2,3,4,5,7,8,9,1,4,5,6,7,8]\n",
        "target = [0,0,,0,0,1,1,1,1,1,1,1,1,1,0,0,0,0,0]\n",
        "batch1 = data[:3]\n",
        "batch2 = data[3:6]\n",
        "batch3 = data[6:9]\n",
        "....\n",
        "batch_m\n",
        "--- end ---\n",
        "data 를 한번 섞어요.\n",
        "new_data = data[:4]\n",
        "batch1 = data[:3]. # 1 2 3. <- SGD 0에 대한 학습\n",
        "batch2 = data[3:6] # 4 5 6\n",
        "batch3 = data[6:9]\n",
        "....\n",
        "batch_m.  <- 1에 대해 학습\n",
        "--- end ---\n",
        "...\n",
        "--- end ---\n",
        "model 편향된 학습. 처음음 들어오는 batch는 0 이겠구나.\n",
        "\n",
        "\n",
        "batch1 ~ m <- batch dataset"
      ],
      "metadata": {
        "id": "_v7_-nQfgdvA"
      },
      "execution_count": null,
      "outputs": []
    },
    {
      "cell_type": "code",
      "source": [
        "from torchvision.datasets import MNIST\n",
        "import torchvision.transforms as T\n",
        "import torch.utils.data\n",
        "\n",
        "# MNIST: 손글씨, 아라비아 숫자에 대한, 0 ~ 9\n",
        "train_dataset = MNIST(root=\"/content/\", transform=T.Compose([T.ToTensor()]), download=True)\n",
        "test_dataset = MNIST(root=\"/content/\", transform=T.Compose([T.ToTensor()]), train=False)\n",
        "# batch size 만큼 묶어주는 함수가 필요.\n",
        "# train_dataset[index] 호출 -> (image data, image target)\n",
        "\n",
        "print(f\"data 1st:{train_dataset[0][0].size()}, {train_dataset[0][1]}\") # 데이터를 통해 batch learning\n",
        "\n",
        "train_loader = torch.utils.data.DataLoader(train_dataset, batch_size=16, shuffle=True) # batch size 32~64,... \n",
        "test_loader = torch.utils.data.DataLoader(test_dataset, batch_size=16, shuffle=False)\n",
        "\n",
        "import matplotlib.pyplot as plt\n",
        "\n",
        "for x in train_loader: # 한번 데이터를 다 보는 거 (batch0, batch1, batch2, ...,batch_m)\n",
        "  print(type(x)) # type python 기본 내장함수: 객체의 정보\n",
        "  print(len(x)) # len: 길이 또는 크기 x=[????,????]\n",
        "  print(type(x[0]))\n",
        "  print(x[0].size())\n",
        "  print(x[1])\n",
        "  print(x[1].size())\n",
        "  batch_image = x[0]\n",
        "  batch_target = x[1]\n",
        "  break"
      ],
      "metadata": {
        "colab": {
          "base_uri": "https://localhost:8080/"
        },
        "id": "tufUHZbljFIm",
        "outputId": "47a3389c-cfb8-41c3-a9c4-ce347435570d"
      },
      "execution_count": 11,
      "outputs": [
        {
          "output_type": "stream",
          "name": "stdout",
          "text": [
            "data 1st:torch.Size([1, 28, 28]), 5\n",
            "<class 'list'>\n",
            "2\n",
            "<class 'torch.Tensor'>\n",
            "torch.Size([16, 1, 28, 28])\n",
            "tensor([4, 9, 9, 4, 6, 4, 3, 6, 8, 2, 2, 6, 1, 6, 2, 9])\n",
            "torch.Size([16])\n"
          ]
        }
      ]
    },
    {
      "cell_type": "code",
      "source": [
        "model2 = MLP()\n",
        "\n",
        "for x in train_loader: # 한번 데이터를 다 보는 거 (batch0, batch1, batch2, ...,batch_m)\n",
        "  batch_image = x[0] # torch.Size([16, 1, 28, 28]) dim=4\n",
        "  # batch_image = batch_image.reshape([16, 784]) # 펼치는 것\n",
        "  batch_image = torch.flatten(batch_image, start_dim=1)\n",
        "  batch_target = x[1]\n",
        "  outputs = model2(batch_image) # forward 함수를 활용\n",
        "  # model2: Multilayer perceptron 입력형태: size: (batch_size, features==정보의 개수) dim=2\n",
        "  print(outputs)\n",
        "  print(batch_target.unsqueeze(dim=1))\n",
        "  # minmize mean(abs(outputs - batch_target)) <- 손실함수 object function, loss\n",
        "  loss = torch.abs(outputs - batch_target.unsqueeze(dim=1))\n",
        "  loss = torch.mean(loss)\n",
        "  \n",
        "  break"
      ],
      "metadata": {
        "id": "n5brBvS_KjH3",
        "outputId": "306aae6c-2ff1-4eb5-f8a9-26a21b3b141c",
        "colab": {
          "base_uri": "https://localhost:8080/"
        }
      },
      "execution_count": 28,
      "outputs": [
        {
          "output_type": "stream",
          "name": "stdout",
          "text": [
            "layer1: torch.Size([16, 100])\n",
            "tensor([[0.5722],\n",
            "        [0.5730],\n",
            "        [0.5710],\n",
            "        [0.5738],\n",
            "        [0.5730],\n",
            "        [0.5728],\n",
            "        [0.5732],\n",
            "        [0.5701],\n",
            "        [0.5724],\n",
            "        [0.5713],\n",
            "        [0.5720],\n",
            "        [0.5723],\n",
            "        [0.5733],\n",
            "        [0.5717],\n",
            "        [0.5718],\n",
            "        [0.5729]], grad_fn=<SigmoidBackward0>)\n",
            "tensor([[2],\n",
            "        [5],\n",
            "        [6],\n",
            "        [7],\n",
            "        [4],\n",
            "        [5],\n",
            "        [7],\n",
            "        [3],\n",
            "        [5],\n",
            "        [7],\n",
            "        [7],\n",
            "        [0],\n",
            "        [2],\n",
            "        [6],\n",
            "        [6],\n",
            "        [1]])\n",
            "tensor([[1.4278],\n",
            "        [4.4270],\n",
            "        [5.4290],\n",
            "        [6.4262],\n",
            "        [3.4270],\n",
            "        [4.4272],\n",
            "        [6.4268],\n",
            "        [2.4299],\n",
            "        [4.4276],\n",
            "        [6.4287],\n",
            "        [6.4280],\n",
            "        [0.5723],\n",
            "        [1.4267],\n",
            "        [5.4283],\n",
            "        [5.4282],\n",
            "        [0.4271]], grad_fn=<AbsBackward0>)\n"
          ]
        }
      ]
    },
    {
      "cell_type": "code",
      "source": [
        ""
      ],
      "metadata": {
        "id": "eNvX5D6YLcBY"
      },
      "execution_count": null,
      "outputs": []
    }
  ]
}