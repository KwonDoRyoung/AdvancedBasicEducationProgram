{
  "nbformat": 4,
  "nbformat_minor": 0,
  "metadata": {
    "colab": {
      "name": "abep10.ipynb",
      "provenance": [],
      "authorship_tag": "ABX9TyMj5GsP38nCCEoL97CzJhcZ",
      "include_colab_link": true
    },
    "kernelspec": {
      "name": "python3",
      "display_name": "Python 3"
    },
    "language_info": {
      "name": "python"
    }
  },
  "cells": [
    {
      "cell_type": "markdown",
      "metadata": {
        "id": "view-in-github",
        "colab_type": "text"
      },
      "source": [
        "<a href=\"https://colab.research.google.com/github/KwonDoRyoung/AdvancedBasicEducationProgram/blob/main/abep10.ipynb\" target=\"_parent\"><img src=\"https://colab.research.google.com/assets/colab-badge.svg\" alt=\"Open In Colab\"/></a>"
      ]
    },
    {
      "cell_type": "markdown",
      "source": [
        "## Pytorch 제공하는 데이터셋"
      ],
      "metadata": {
        "id": "Aw1Cl8Qm-mg8"
      }
    },
    {
      "cell_type": "code",
      "execution_count": null,
      "metadata": {
        "id": "a1pPrKGb-SlO"
      },
      "outputs": [],
      "source": [
        "import torch.utils.data\n",
        "import torchvision.transforms as T\n",
        "\n",
        "from torchvision.datasets import MNIST\n",
        "\n",
        "## MNIST: 손글씨, 아라비아 숫자에 대한, 0 ~ 9\n",
        "train_dataset = MNIST(root=\"/content/\", transform=T.Compose([T.ToTensor()]), download=True)\n",
        "test_dataset = MNIST(root=\"/content/\", transform=T.Compose([T.ToTensor()]), train=False)\n"
      ]
    },
    {
      "cell_type": "markdown",
      "source": [
        "## Custom 데이터셋 만들기"
      ],
      "metadata": {
        "id": "ex00jqYI-biK"
      }
    },
    {
      "cell_type": "code",
      "source": [
        "train_path = '/content/MNIST/mnist_train.csv'\n",
        "test_path = '/content/MNIST/mnist_test.csv'"
      ],
      "metadata": {
        "id": "ko7DW5kSABzm"
      },
      "execution_count": 4,
      "outputs": []
    },
    {
      "cell_type": "markdown",
      "source": [
        "- 데이터 확인"
      ],
      "metadata": {
        "id": "5Ud_3JmyHvR-"
      }
    },
    {
      "cell_type": "code",
      "source": [
        "import os\n",
        "import pandas as pd\n",
        "\n",
        "train_data = pd.read_csv(train_path)\n",
        "train_data = train_data.fillna(0)\n",
        "first_data = train_data.loc[0]\n",
        "print(\"- pandas 0번째 row 데이터 호출\")\n",
        "print(first_data)\n",
        "first_data = first_data.tolist()\n",
        "print(\"\\n- pandas 0번째 row 데이터 리스트로 변환\")\n",
        "print(first_data)\n",
        "# label 과 데이터로 분리\n",
        "label = first_data[0]\n",
        "data = first_data[1:]\n",
        "\n",
        "import numpy as np\n",
        "data = np.asarray(data) # 리스트 데이터를 numpy array 로 변환\n",
        "print(\"\\n-numpy array 변환\")\n",
        "data = data.reshape(28,28) # 이미지로 보기 위한 형태 변환\n",
        "\n",
        "import matplotlib.pyplot as plt\n",
        "print(f\"\\n label: {label}\")\n",
        "plt.imshow(data)"
      ],
      "metadata": {
        "colab": {
          "base_uri": "https://localhost:8080/",
          "height": 642
        },
        "id": "KrIbVJxxADYm",
        "outputId": "d1c77ad7-ece5-4df4-dff8-2005aa804e5d"
      },
      "execution_count": 24,
      "outputs": [
        {
          "output_type": "stream",
          "name": "stdout",
          "text": [
            "- pandas 0번째 row 데이터 호출\n",
            "label    5.0\n",
            "1x1      0.0\n",
            "1x2      0.0\n",
            "1x3      0.0\n",
            "1x4      0.0\n",
            "        ... \n",
            "28x24    0.0\n",
            "28x25    0.0\n",
            "28x26    0.0\n",
            "28x27    0.0\n",
            "28x28    0.0\n",
            "Name: 0, Length: 785, dtype: float64\n",
            "\n",
            "- pandas 0번째 row 데이터 리스트로 변환\n",
            "[5.0, 0.0, 0.0, 0.0, 0.0, 0.0, 0.0, 0.0, 0.0, 0.0, 0.0, 0.0, 0.0, 0.0, 0.0, 0.0, 0.0, 0.0, 0.0, 0.0, 0.0, 0.0, 0.0, 0.0, 0.0, 0.0, 0.0, 0.0, 0.0, 0.0, 0.0, 0.0, 0.0, 0.0, 0.0, 0.0, 0.0, 0.0, 0.0, 0.0, 0.0, 0.0, 0.0, 0.0, 0.0, 0.0, 0.0, 0.0, 0.0, 0.0, 0.0, 0.0, 0.0, 0.0, 0.0, 0.0, 0.0, 0.0, 0.0, 0.0, 0.0, 0.0, 0.0, 0.0, 0.0, 0.0, 0.0, 0.0, 0.0, 0.0, 0.0, 0.0, 0.0, 0.0, 0.0, 0.0, 0.0, 0.0, 0.0, 0.0, 0.0, 0.0, 0.0, 0.0, 0.0, 0.0, 0.0, 0.0, 0.0, 0.0, 0.0, 0.0, 0.0, 0.0, 0.0, 0.0, 0.0, 0.0, 0.0, 0.0, 0.0, 0.0, 0.0, 0.0, 0.0, 0.0, 0.0, 0.0, 0.0, 0.0, 0.0, 0.0, 0.0, 0.0, 0.0, 0.0, 0.0, 0.0, 0.0, 0.0, 0.0, 0.0, 0.0, 0.0, 0.0, 0.0, 0.0, 0.0, 0.0, 0.0, 0.0, 0.0, 0.0, 0.0, 0.0, 0.0, 0.0, 0.0, 0.0, 0.0, 0.0, 0.0, 0.0, 0.0, 0.0, 0.0, 0.0, 0.0, 0.0, 0.0, 0.0, 0.0, 0.0, 3.0, 18.0, 18.0, 18.0, 126.0, 136.0, 175.0, 26.0, 166.0, 255.0, 247.0, 127.0, 0.0, 0.0, 0.0, 0.0, 0.0, 0.0, 0.0, 0.0, 0.0, 0.0, 0.0, 0.0, 30.0, 36.0, 94.0, 154.0, 170.0, 253.0, 253.0, 253.0, 253.0, 253.0, 225.0, 172.0, 253.0, 242.0, 195.0, 64.0, 0.0, 0.0, 0.0, 0.0, 0.0, 0.0, 0.0, 0.0, 0.0, 0.0, 0.0, 49.0, 238.0, 253.0, 253.0, 253.0, 253.0, 253.0, 253.0, 253.0, 253.0, 251.0, 93.0, 82.0, 82.0, 56.0, 39.0, 0.0, 0.0, 0.0, 0.0, 0.0, 0.0, 0.0, 0.0, 0.0, 0.0, 0.0, 0.0, 18.0, 219.0, 253.0, 253.0, 253.0, 253.0, 253.0, 198.0, 182.0, 247.0, 241.0, 0.0, 0.0, 0.0, 0.0, 0.0, 0.0, 0.0, 0.0, 0.0, 0.0, 0.0, 0.0, 0.0, 0.0, 0.0, 0.0, 0.0, 0.0, 80.0, 156.0, 107.0, 253.0, 253.0, 205.0, 11.0, 0.0, 43.0, 154.0, 0.0, 0.0, 0.0, 0.0, 0.0, 0.0, 0.0, 0.0, 0.0, 0.0, 0.0, 0.0, 0.0, 0.0, 0.0, 0.0, 0.0, 0.0, 0.0, 14.0, 1.0, 154.0, 253.0, 90.0, 0.0, 0.0, 0.0, 0.0, 0.0, 0.0, 0.0, 0.0, 0.0, 0.0, 0.0, 0.0, 0.0, 0.0, 0.0, 0.0, 0.0, 0.0, 0.0, 0.0, 0.0, 0.0, 0.0, 0.0, 0.0, 139.0, 253.0, 190.0, 2.0, 0.0, 0.0, 0.0, 0.0, 0.0, 0.0, 0.0, 0.0, 0.0, 0.0, 0.0, 0.0, 0.0, 0.0, 0.0, 0.0, 0.0, 0.0, 0.0, 0.0, 0.0, 0.0, 0.0, 0.0, 11.0, 190.0, 253.0, 70.0, 0.0, 0.0, 0.0, 0.0, 0.0, 0.0, 0.0, 0.0, 0.0, 0.0, 0.0, 0.0, 0.0, 0.0, 0.0, 0.0, 0.0, 0.0, 0.0, 0.0, 0.0, 0.0, 0.0, 0.0, 0.0, 35.0, 241.0, 225.0, 160.0, 108.0, 1.0, 0.0, 0.0, 0.0, 0.0, 0.0, 0.0, 0.0, 0.0, 0.0, 0.0, 0.0, 0.0, 0.0, 0.0, 0.0, 0.0, 0.0, 0.0, 0.0, 0.0, 0.0, 0.0, 0.0, 81.0, 240.0, 253.0, 253.0, 119.0, 25.0, 0.0, 0.0, 0.0, 0.0, 0.0, 0.0, 0.0, 0.0, 0.0, 0.0, 0.0, 0.0, 0.0, 0.0, 0.0, 0.0, 0.0, 0.0, 0.0, 0.0, 0.0, 0.0, 0.0, 45.0, 186.0, 253.0, 253.0, 150.0, 27.0, 0.0, 0.0, 0.0, 0.0, 0.0, 0.0, 0.0, 0.0, 0.0, 0.0, 0.0, 0.0, 0.0, 0.0, 0.0, 0.0, 0.0, 0.0, 0.0, 0.0, 0.0, 0.0, 0.0, 16.0, 93.0, 252.0, 253.0, 187.0, 0.0, 0.0, 0.0, 0.0, 0.0, 0.0, 0.0, 0.0, 0.0, 0.0, 0.0, 0.0, 0.0, 0.0, 0.0, 0.0, 0.0, 0.0, 0.0, 0.0, 0.0, 0.0, 0.0, 0.0, 0.0, 249.0, 253.0, 249.0, 64.0, 0.0, 0.0, 0.0, 0.0, 0.0, 0.0, 0.0, 0.0, 0.0, 0.0, 0.0, 0.0, 0.0, 0.0, 0.0, 0.0, 0.0, 0.0, 0.0, 0.0, 0.0, 46.0, 130.0, 183.0, 253.0, 253.0, 207.0, 2.0, 0.0, 0.0, 0.0, 0.0, 0.0, 0.0, 0.0, 0.0, 0.0, 0.0, 0.0, 0.0, 0.0, 0.0, 0.0, 0.0, 0.0, 0.0, 0.0, 39.0, 148.0, 229.0, 253.0, 253.0, 253.0, 250.0, 182.0, 0.0, 0.0, 0.0, 0.0, 0.0, 0.0, 0.0, 0.0, 0.0, 0.0, 0.0, 0.0, 0.0, 0.0, 0.0, 0.0, 0.0, 0.0, 24.0, 114.0, 221.0, 253.0, 253.0, 253.0, 253.0, 201.0, 78.0, 0.0, 0.0, 0.0, 0.0, 0.0, 0.0, 0.0, 0.0, 0.0, 0.0, 0.0, 0.0, 0.0, 0.0, 0.0, 0.0, 0.0, 23.0, 66.0, 213.0, 253.0, 253.0, 253.0, 253.0, 198.0, 81.0, 2.0, 0.0, 0.0, 0.0, 0.0, 0.0, 0.0, 0.0, 0.0, 0.0, 0.0, 0.0, 0.0, 0.0, 0.0, 0.0, 0.0, 18.0, 171.0, 219.0, 253.0, 253.0, 253.0, 253.0, 195.0, 80.0, 9.0, 0.0, 0.0, 0.0, 0.0, 0.0, 0.0, 0.0, 0.0, 0.0, 0.0, 0.0, 0.0, 0.0, 0.0, 0.0, 0.0, 55.0, 172.0, 226.0, 253.0, 253.0, 253.0, 253.0, 244.0, 133.0, 11.0, 0.0, 0.0, 0.0, 0.0, 0.0, 0.0, 0.0, 0.0, 0.0, 0.0, 0.0, 0.0, 0.0, 0.0, 0.0, 0.0, 0.0, 0.0, 136.0, 253.0, 253.0, 253.0, 212.0, 135.0, 132.0, 16.0, 0.0, 0.0, 0.0, 0.0, 0.0, 0.0, 0.0, 0.0, 0.0, 0.0, 0.0, 0.0, 0.0, 0.0, 0.0, 0.0, 0.0, 0.0, 0.0, 0.0, 0.0, 0.0, 0.0, 0.0, 0.0, 0.0, 0.0, 0.0, 0.0, 0.0, 0.0, 0.0, 0.0, 0.0, 0.0, 0.0, 0.0, 0.0, 0.0, 0.0, 0.0, 0.0, 0.0, 0.0, 0.0, 0.0, 0.0, 0.0, 0.0, 0.0, 0.0, 0.0, 0.0, 0.0, 0.0, 0.0, 0.0, 0.0, 0.0, 0.0, 0.0, 0.0, 0.0, 0.0, 0.0, 0.0, 0.0, 0.0, 0.0, 0.0, 0.0, 0.0, 0.0, 0.0, 0.0, 0.0, 0.0, 0.0, 0.0, 0.0, 0.0, 0.0, 0.0, 0.0, 0.0, 0.0, 0.0, 0.0, 0.0, 0.0, 0.0, 0.0, 0.0, 0.0, 0.0, 0.0, 0.0, 0.0, 0.0, 0.0]\n",
            "\n",
            "-numpy array 변환\n",
            "\n",
            " label: 5.0\n"
          ]
        },
        {
          "output_type": "execute_result",
          "data": {
            "text/plain": [
              "<matplotlib.image.AxesImage at 0x7f0e162ebbd0>"
            ]
          },
          "metadata": {},
          "execution_count": 24
        },
        {
          "output_type": "display_data",
          "data": {
            "image/png": "[encoded data removed]",
            "text/plain": [
              "<Figure size 432x288 with 1 Axes>"
            ]
          },
          "metadata": {
            "needs_background": "light"
          }
        }
      ]
    },
    {
      "cell_type": "markdown",
      "source": [
        "- 학습 및 평가에 활용할 수 있도록 데이터들을 데이터 셋으로 변경하기"
      ],
      "metadata": {
        "id": "8bza32ozH93W"
      }
    },
    {
      "cell_type": "code",
      "source": [
        "import os\n",
        "import numpy as np\n",
        "import pandas as pd\n",
        "\n",
        "train_data = pd.read_csv(train_path)\n",
        "train_data = train_data.fillna(0)\n",
        "\n",
        "dataset = []\n",
        "\n",
        "for idx in range(len(train_data)):\n",
        "  _data = train_data.loc[idx]  \n",
        "  _data = _data.tolist()\n",
        "\n",
        "  # label 과 데이터로 분리\n",
        "  label = int(_data[0])\n",
        "  data = _data[1:]\n",
        "\n",
        "  dataset.append([label, data])\n",
        "\n",
        "print(\"raw data length\",len(train_data))\n",
        "print(\"dataset length\",len(dataset))\n"
      ],
      "metadata": {
        "colab": {
          "base_uri": "https://localhost:8080/"
        },
        "id": "kvKHAr6CH5wa",
        "outputId": "b59d7759-9e84-4d5d-b5b1-5a163bf69078"
      },
      "execution_count": 25,
      "outputs": [
        {
          "output_type": "stream",
          "name": "stdout",
          "text": [
            "raw data length 1721\n",
            "dataset length 1721\n"
          ]
        }
      ]
    },
    {
      "cell_type": "markdown",
      "source": [
        "- 데이터셋 클래스에 이식하기: 위의 코드 단순히 이식"
      ],
      "metadata": {
        "id": "TrlcWgwfJUmf"
      }
    },
    {
      "cell_type": "code",
      "source": [
        "from torch.utils.data import Dataset\n",
        "\n",
        "class CustomMNIST(Dataset):\n",
        "  def __init__(self, data_path):\n",
        "    raw_data = pd.read_csv(data_path).fillna(0)\n",
        "\n",
        "    self.dataset = []\n",
        "\n",
        "    for idx in range(len(raw_data)):\n",
        "      _data = raw_data.loc[idx]  \n",
        "      _data = _data.tolist()\n",
        "\n",
        "      # label 과 데이터로 분리\n",
        "      label = int(_data[0])\n",
        "      data = _data[1:]\n",
        "\n",
        "      self.dataset.append([data, label])\n",
        "\n",
        "  def __len__(self):\n",
        "    return len(self.dataset)\n",
        "\n",
        "  def __getitem__(self, idx):\n",
        "    data, label = self.dataset[idx]\n",
        "\n",
        "    return data, label"
      ],
      "metadata": {
        "id": "bWP87DOO-gNd"
      },
      "execution_count": 53,
      "outputs": []
    },
    {
      "cell_type": "code",
      "source": [
        "train_path = '/content/MNIST/mnist_train.csv'\n",
        "test_path = '/content/MNIST/mnist_test.csv'\n",
        "\n",
        "train_dataset1 = CustomMNIST(train_path)\n",
        "print(len(train_dataset1))\n",
        "temp_data, temp_label = train_dataset1[0]\n",
        "print(type(temp_data))\n",
        "print(temp_label)\n",
        "print(len(temp_data))"
      ],
      "metadata": {
        "colab": {
          "base_uri": "https://localhost:8080/"
        },
        "id": "QBJARoKL-6BE",
        "outputId": "b8b0ad0d-c91d-4ff6-9251-4045af374d13"
      },
      "execution_count": 61,
      "outputs": [
        {
          "output_type": "stream",
          "name": "stdout",
          "text": [
            "1721\n",
            "<class 'list'>\n",
            "5\n",
            "784\n"
          ]
        }
      ]
    },
    {
      "cell_type": "code",
      "source": [
        "# 위의 custom dataset은 문제가 있음.\n",
        "# 무엇이 문제인지 확인.\n",
        "from torch.utils.data import DataLoader\n",
        "\n",
        "batch_size = 2\n",
        "train_loader1 = DataLoader(train_dataset1, batch_size=batch_size)\n",
        "\n",
        "for data in train_loader1:\n",
        "  print(f\"data type: {type(data)}\") # data is list type\n",
        "  print(f\"data length: {len(data)}\")\n",
        "  \n",
        "  print(type(data[0]))\n",
        "  print(type(data[1]))\n",
        "\n",
        "  print(f\"data 0 length: {len(data[0])}\")\n",
        "  print(f\"data 0: \\n{data[0]}\")\n",
        "\n",
        "  print(f\"data 1 size: {data[1].size()}\")\n",
        "  print(f\"data 1: \\n{data[1]}\")\n",
        "\n",
        "  break"
      ],
      "metadata": {
        "colab": {
          "base_uri": "https://localhost:8080/"
        },
        "id": "hgeZ7PkxJ3CH",
        "outputId": "22dac2c7-022b-47a0-abac-4c517d778665"
      },
      "execution_count": 62,
      "outputs": [
        {
          "output_type": "stream",
          "name": "stdout",
          "text": [
            "data type: <class 'list'>\n",
            "data length: 2\n",
            "<class 'list'>\n",
            "<class 'torch.Tensor'>\n",
            "data 0 length: 784\n",
            "data 0: \n",
            "[tensor([0., 0.], dtype=torch.float64), tensor([0., 0.], dtype=torch.float64), tensor([0., 0.], dtype=torch.float64), tensor([0., 0.], dtype=torch.float64), tensor([0., 0.], dtype=torch.float64), tensor([0., 0.], dtype=torch.float64), tensor([0., 0.], dtype=torch.float64), tensor([0., 0.], dtype=torch.float64), tensor([0., 0.], dtype=torch.float64), tensor([0., 0.], dtype=torch.float64), tensor([0., 0.], dtype=torch.float64), tensor([0., 0.], dtype=torch.float64), tensor([0., 0.], dtype=torch.float64), tensor([0., 0.], dtype=torch.float64), tensor([0., 0.], dtype=torch.float64), tensor([0., 0.], dtype=torch.float64), tensor([0., 0.], dtype=torch.float64), tensor([0., 0.], dtype=torch.float64), tensor([0., 0.], dtype=torch.float64), tensor([0., 0.], dtype=torch.float64), tensor([0., 0.], dtype=torch.float64), tensor([0., 0.], dtype=torch.float64), tensor([0., 0.], dtype=torch.float64), tensor([0., 0.], dtype=torch.float64), tensor([0., 0.], dtype=torch.float64), tensor([0., 0.], dtype=torch.float64), tensor([0., 0.], dtype=torch.float64), tensor([0., 0.], dtype=torch.float64), tensor([0., 0.], dtype=torch.float64), tensor([0., 0.], dtype=torch.float64), tensor([0., 0.], dtype=torch.float64), tensor([0., 0.], dtype=torch.float64), tensor([0., 0.], dtype=torch.float64), tensor([0., 0.], dtype=torch.float64), tensor([0., 0.], dtype=torch.float64), tensor([0., 0.], dtype=torch.float64), tensor([0., 0.], dtype=torch.float64), tensor([0., 0.], dtype=torch.float64), tensor([0., 0.], dtype=torch.float64), tensor([0., 0.], dtype=torch.float64), tensor([0., 0.], dtype=torch.float64), tensor([0., 0.], dtype=torch.float64), tensor([0., 0.], dtype=torch.float64), tensor([0., 0.], dtype=torch.float64), tensor([0., 0.], dtype=torch.float64), tensor([0., 0.], dtype=torch.float64), tensor([0., 0.], dtype=torch.float64), tensor([0., 0.], dtype=torch.float64), tensor([0., 0.], dtype=torch.float64), tensor([0., 0.], dtype=torch.float64), tensor([0., 0.], dtype=torch.float64), tensor([0., 0.], dtype=torch.float64), tensor([0., 0.], dtype=torch.float64), tensor([0., 0.], dtype=torch.float64), tensor([0., 0.], dtype=torch.float64), tensor([0., 0.], dtype=torch.float64), tensor([0., 0.], dtype=torch.float64), tensor([0., 0.], dtype=torch.float64), tensor([0., 0.], dtype=torch.float64), tensor([0., 0.], dtype=torch.float64), tensor([0., 0.], dtype=torch.float64), tensor([0., 0.], dtype=torch.float64), tensor([0., 0.], dtype=torch.float64), tensor([0., 0.], dtype=torch.float64), tensor([0., 0.], dtype=torch.float64), tensor([0., 0.], dtype=torch.float64), tensor([0., 0.], dtype=torch.float64), tensor([0., 0.], dtype=torch.float64), tensor([0., 0.], dtype=torch.float64), tensor([0., 0.], dtype=torch.float64), tensor([0., 0.], dtype=torch.float64), tensor([0., 0.], dtype=torch.float64), tensor([0., 0.], dtype=torch.float64), tensor([0., 0.], dtype=torch.float64), tensor([0., 0.], dtype=torch.float64), tensor([0., 0.], dtype=torch.float64), tensor([0., 0.], dtype=torch.float64), tensor([0., 0.], dtype=torch.float64), tensor([0., 0.], dtype=torch.float64), tensor([0., 0.], dtype=torch.float64), tensor([0., 0.], dtype=torch.float64), tensor([0., 0.], dtype=torch.float64), tensor([0., 0.], dtype=torch.float64), tensor([0., 0.], dtype=torch.float64), tensor([0., 0.], dtype=torch.float64), tensor([0., 0.], dtype=torch.float64), tensor([0., 0.], dtype=torch.float64), tensor([0., 0.], dtype=torch.float64), tensor([0., 0.], dtype=torch.float64), tensor([0., 0.], dtype=torch.float64), tensor([0., 0.], dtype=torch.float64), tensor([0., 0.], dtype=torch.float64), tensor([0., 0.], dtype=torch.float64), tensor([0., 0.], dtype=torch.float64), tensor([0., 0.], dtype=torch.float64), tensor([0., 0.], dtype=torch.float64), tensor([0., 0.], dtype=torch.float64), tensor([0., 0.], dtype=torch.float64), tensor([0., 0.], dtype=torch.float64), tensor([0., 0.], dtype=torch.float64), tensor([0., 0.], dtype=torch.float64), tensor([0., 0.], dtype=torch.float64), tensor([0., 0.], dtype=torch.float64), tensor([0., 0.], dtype=torch.float64), tensor([0., 0.], dtype=torch.float64), tensor([0., 0.], dtype=torch.float64), tensor([0., 0.], dtype=torch.float64), tensor([0., 0.], dtype=torch.float64), tensor([0., 0.], dtype=torch.float64), tensor([0., 0.], dtype=torch.float64), tensor([0., 0.], dtype=torch.float64), tensor([0., 0.], dtype=torch.float64), tensor([0., 0.], dtype=torch.float64), tensor([0., 0.], dtype=torch.float64), tensor([0., 0.], dtype=torch.float64), tensor([0., 0.], dtype=torch.float64), tensor([0., 0.], dtype=torch.float64), tensor([0., 0.], dtype=torch.float64), tensor([0., 0.], dtype=torch.float64), tensor([0., 0.], dtype=torch.float64), tensor([0., 0.], dtype=torch.float64), tensor([0., 0.], dtype=torch.float64), tensor([0., 0.], dtype=torch.float64), tensor([0., 0.], dtype=torch.float64), tensor([0., 0.], dtype=torch.float64), tensor([0., 0.], dtype=torch.float64), tensor([0., 0.], dtype=torch.float64), tensor([ 0., 51.], dtype=torch.float64), tensor([  0., 159.], dtype=torch.float64), tensor([  0., 253.], dtype=torch.float64), tensor([  0., 159.], dtype=torch.float64), tensor([ 0., 50.], dtype=torch.float64), tensor([0., 0.], dtype=torch.float64), tensor([0., 0.], dtype=torch.float64), tensor([0., 0.], dtype=torch.float64), tensor([0., 0.], dtype=torch.float64), tensor([0., 0.], dtype=torch.float64), tensor([0., 0.], dtype=torch.float64), tensor([0., 0.], dtype=torch.float64), tensor([0., 0.], dtype=torch.float64), tensor([0., 0.], dtype=torch.float64), tensor([0., 0.], dtype=torch.float64), tensor([0., 0.], dtype=torch.float64), tensor([0., 0.], dtype=torch.float64), tensor([0., 0.], dtype=torch.float64), tensor([0., 0.], dtype=torch.float64), tensor([0., 0.], dtype=torch.float64), tensor([0., 0.], dtype=torch.float64), tensor([0., 0.], dtype=torch.float64), tensor([0., 0.], dtype=torch.float64), tensor([0., 0.], dtype=torch.float64), tensor([0., 0.], dtype=torch.float64), tensor([3., 0.], dtype=torch.float64), tensor([18.,  0.], dtype=torch.float64), tensor([18., 48.], dtype=torch.float64), tensor([ 18., 238.], dtype=torch.float64), tensor([126., 252.], dtype=torch.float64), tensor([136., 252.], dtype=torch.float64), tensor([175., 252.], dtype=torch.float64), tensor([ 26., 237.], dtype=torch.float64), tensor([166.,   0.], dtype=torch.float64), tensor([255.,   0.], dtype=torch.float64), tensor([247.,   0.], dtype=torch.float64), tensor([127.,   0.], dtype=torch.float64), tensor([0., 0.], dtype=torch.float64), tensor([0., 0.], dtype=torch.float64), tensor([0., 0.], dtype=torch.float64), tensor([0., 0.], dtype=torch.float64), tensor([0., 0.], dtype=torch.float64), tensor([0., 0.], dtype=torch.float64), tensor([0., 0.], dtype=torch.float64), tensor([0., 0.], dtype=torch.float64), tensor([0., 0.], dtype=torch.float64), tensor([0., 0.], dtype=torch.float64), tensor([0., 0.], dtype=torch.float64), tensor([0., 0.], dtype=torch.float64), tensor([30.,  0.], dtype=torch.float64), tensor([36.,  0.], dtype=torch.float64), tensor([94.,  0.], dtype=torch.float64), tensor([154.,   0.], dtype=torch.float64), tensor([170.,   0.], dtype=torch.float64), tensor([253.,  54.], dtype=torch.float64), tensor([253., 227.], dtype=torch.float64), tensor([253., 253.], dtype=torch.float64), tensor([253., 252.], dtype=torch.float64), tensor([253., 239.], dtype=torch.float64), tensor([225., 233.], dtype=torch.float64), tensor([172., 252.], dtype=torch.float64), tensor([253.,  57.], dtype=torch.float64), tensor([242.,   6.], dtype=torch.float64), tensor([195.,   0.], dtype=torch.float64), tensor([64.,  0.], dtype=torch.float64), tensor([0., 0.], dtype=torch.float64), tensor([0., 0.], dtype=torch.float64), tensor([0., 0.], dtype=torch.float64), tensor([0., 0.], dtype=torch.float64), tensor([0., 0.], dtype=torch.float64), tensor([0., 0.], dtype=torch.float64), tensor([0., 0.], dtype=torch.float64), tensor([0., 0.], dtype=torch.float64), tensor([0., 0.], dtype=torch.float64), tensor([0., 0.], dtype=torch.float64), tensor([0., 0.], dtype=torch.float64), tensor([49.,  0.], dtype=torch.float64), tensor([238.,   0.], dtype=torch.float64), tensor([253.,   0.], dtype=torch.float64), tensor([253.,   0.], dtype=torch.float64), tensor([253.,  10.], dtype=torch.float64), tensor([253.,  60.], dtype=torch.float64), tensor([253., 224.], dtype=torch.float64), tensor([253., 252.], dtype=torch.float64), tensor([253., 253.], dtype=torch.float64), tensor([253., 252.], dtype=torch.float64), tensor([251., 202.], dtype=torch.float64), tensor([93., 84.], dtype=torch.float64), tensor([ 82., 252.], dtype=torch.float64), tensor([ 82., 253.], dtype=torch.float64), tensor([ 56., 122.], dtype=torch.float64), tensor([39.,  0.], dtype=torch.float64), tensor([0., 0.], dtype=torch.float64), tensor([0., 0.], dtype=torch.float64), tensor([0., 0.], dtype=torch.float64), tensor([0., 0.], dtype=torch.float64), tensor([0., 0.], dtype=torch.float64), tensor([0., 0.], dtype=torch.float64), tensor([0., 0.], dtype=torch.float64), tensor([0., 0.], dtype=torch.float64), tensor([0., 0.], dtype=torch.float64), tensor([0., 0.], dtype=torch.float64), tensor([0., 0.], dtype=torch.float64), tensor([0., 0.], dtype=torch.float64), tensor([18.,  0.], dtype=torch.float64), tensor([219.,   0.], dtype=torch.float64), tensor([253.,   0.], dtype=torch.float64), tensor([253.,   0.], dtype=torch.float64), tensor([253., 163.], dtype=torch.float64), tensor([253., 252.], dtype=torch.float64), tensor([253., 252.], dtype=torch.float64), tensor([198., 252.], dtype=torch.float64), tensor([182., 253.], dtype=torch.float64), tensor([247., 252.], dtype=torch.float64), tensor([241., 252.], dtype=torch.float64), tensor([ 0., 96.], dtype=torch.float64), tensor([  0., 189.], dtype=torch.float64), tensor([  0., 253.], dtype=torch.float64), tensor([  0., 167.], dtype=torch.float64), tensor([0., 0.], dtype=torch.float64), tensor([0., 0.], dtype=torch.float64), tensor([0., 0.], dtype=torch.float64), tensor([0., 0.], dtype=torch.float64), tensor([0., 0.], dtype=torch.float64), tensor([0., 0.], dtype=torch.float64), tensor([0., 0.], dtype=torch.float64), tensor([0., 0.], dtype=torch.float64), tensor([0., 0.], dtype=torch.float64), tensor([0., 0.], dtype=torch.float64), tensor([0., 0.], dtype=torch.float64), tensor([0., 0.], dtype=torch.float64), tensor([0., 0.], dtype=torch.float64), tensor([0., 0.], dtype=torch.float64), tensor([80.,  0.], dtype=torch.float64), tensor([156.,   0.], dtype=torch.float64), tensor([107.,  51.], dtype=torch.float64), tensor([253., 238.], dtype=torch.float64), tensor([253., 253.], dtype=torch.float64), tensor([205., 253.], dtype=torch.float64), tensor([ 11., 190.], dtype=torch.float64), tensor([  0., 114.], dtype=torch.float64), tensor([ 43., 253.], dtype=torch.float64), tensor([154., 228.], dtype=torch.float64), tensor([ 0., 47.], dtype=torch.float64), tensor([ 0., 79.], dtype=torch.float64), tensor([  0., 255.], dtype=torch.float64), tensor([  0., 168.], dtype=torch.float64), tensor([0., 0.], dtype=torch.float64), tensor([0., 0.], dtype=torch.float64), tensor([0., 0.], dtype=torch.float64), tensor([0., 0.], dtype=torch.float64), tensor([0., 0.], dtype=torch.float64), tensor([0., 0.], dtype=torch.float64), tensor([0., 0.], dtype=torch.float64), tensor([0., 0.], dtype=torch.float64), tensor([0., 0.], dtype=torch.float64), tensor([0., 0.], dtype=torch.float64), tensor([0., 0.], dtype=torch.float64), tensor([0., 0.], dtype=torch.float64), tensor([0., 0.], dtype=torch.float64), tensor([0., 0.], dtype=torch.float64), tensor([0., 0.], dtype=torch.float64), tensor([14., 48.], dtype=torch.float64), tensor([  1., 238.], dtype=torch.float64), tensor([154., 252.], dtype=torch.float64), tensor([253., 252.], dtype=torch.float64), tensor([ 90., 179.], dtype=torch.float64), tensor([ 0., 12.], dtype=torch.float64), tensor([ 0., 75.], dtype=torch.float64), tensor([  0., 121.], dtype=torch.float64), tensor([ 0., 21.], dtype=torch.float64), tensor([0., 0.], dtype=torch.float64), tensor([0., 0.], dtype=torch.float64), tensor([  0., 253.], dtype=torch.float64), tensor([  0., 243.], dtype=torch.float64), tensor([ 0., 50.], dtype=torch.float64), tensor([0., 0.], dtype=torch.float64), tensor([0., 0.], dtype=torch.float64), tensor([0., 0.], dtype=torch.float64), tensor([0., 0.], dtype=torch.float64), tensor([0., 0.], dtype=torch.float64), tensor([0., 0.], dtype=torch.float64), tensor([0., 0.], dtype=torch.float64), tensor([0., 0.], dtype=torch.float64), tensor([0., 0.], dtype=torch.float64), tensor([0., 0.], dtype=torch.float64), tensor([0., 0.], dtype=torch.float64), tensor([0., 0.], dtype=torch.float64), tensor([0., 0.], dtype=torch.float64), tensor([ 0., 38.], dtype=torch.float64), tensor([  0., 165.], dtype=torch.float64), tensor([  0., 253.], dtype=torch.float64), tensor([139., 233.], dtype=torch.float64), tensor([253., 208.], dtype=torch.float64), tensor([190.,  84.], dtype=torch.float64), tensor([2., 0.], dtype=torch.float64), tensor([0., 0.], dtype=torch.float64), tensor([0., 0.], dtype=torch.float64), tensor([0., 0.], dtype=torch.float64), tensor([0., 0.], dtype=torch.float64), tensor([0., 0.], dtype=torch.float64), tensor([  0., 253.], dtype=torch.float64), tensor([  0., 252.], dtype=torch.float64), tensor([  0., 165.], dtype=torch.float64), tensor([0., 0.], dtype=torch.float64), tensor([0., 0.], dtype=torch.float64), tensor([0., 0.], dtype=torch.float64), tensor([0., 0.], dtype=torch.float64), tensor([0., 0.], dtype=torch.float64), tensor([0., 0.], dtype=torch.float64), tensor([0., 0.], dtype=torch.float64), tensor([0., 0.], dtype=torch.float64), tensor([0., 0.], dtype=torch.float64), tensor([0., 0.], dtype=torch.float64), tensor([0., 0.], dtype=torch.float64), tensor([0., 0.], dtype=torch.float64), tensor([0., 7.], dtype=torch.float64), tensor([  0., 178.], dtype=torch.float64), tensor([  0., 252.], dtype=torch.float64), tensor([  0., 240.], dtype=torch.float64), tensor([11., 71.], dtype=torch.float64), tensor([190.,  19.], dtype=torch.float64), tensor([253.,  28.], dtype=torch.float64), tensor([70.,  0.], dtype=torch.float64), tensor([0., 0.], dtype=torch.float64), tensor([0., 0.], dtype=torch.float64), tensor([0., 0.], dtype=torch.float64), tensor([0., 0.], dtype=torch.float64), tensor([0., 0.], dtype=torch.float64), tensor([  0., 253.], dtype=torch.float64), tensor([  0., 252.], dtype=torch.float64), tensor([  0., 195.], dtype=torch.float64), tensor([0., 0.], dtype=torch.float64), tensor([0., 0.], dtype=torch.float64), tensor([0., 0.], dtype=torch.float64), tensor([0., 0.], dtype=torch.float64), tensor([0., 0.], dtype=torch.float64), tensor([0., 0.], dtype=torch.float64), tensor([0., 0.], dtype=torch.float64), tensor([0., 0.], dtype=torch.float64), tensor([0., 0.], dtype=torch.float64), tensor([0., 0.], dtype=torch.float64), tensor([0., 0.], dtype=torch.float64), tensor([0., 0.], dtype=torch.float64), tensor([ 0., 57.], dtype=torch.float64), tensor([  0., 252.], dtype=torch.float64), tensor([  0., 252.], dtype=torch.float64), tensor([ 0., 63.], dtype=torch.float64), tensor([0., 0.], dtype=torch.float64), tensor([35.,  0.], dtype=torch.float64), tensor([241.,   0.], dtype=torch.float64), tensor([225.,   0.], dtype=torch.float64), tensor([160.,   0.], dtype=torch.float64), tensor([108.,   0.], dtype=torch.float64), tensor([1., 0.], dtype=torch.float64), tensor([0., 0.], dtype=torch.float64), tensor([0., 0.], dtype=torch.float64), tensor([  0., 253.], dtype=torch.float64), tensor([  0., 252.], dtype=torch.float64), tensor([  0., 195.], dtype=torch.float64), tensor([0., 0.], dtype=torch.float64), tensor([0., 0.], dtype=torch.float64), tensor([0., 0.], dtype=torch.float64), tensor([0., 0.], dtype=torch.float64), tensor([0., 0.], dtype=torch.float64), tensor([0., 0.], dtype=torch.float64), tensor([0., 0.], dtype=torch.float64), tensor([0., 0.], dtype=torch.float64), tensor([0., 0.], dtype=torch.float64), tensor([0., 0.], dtype=torch.float64), tensor([0., 0.], dtype=torch.float64), tensor([0., 0.], dtype=torch.float64), tensor([  0., 198.], dtype=torch.float64), tensor([  0., 253.], dtype=torch.float64), tensor([  0., 190.], dtype=torch.float64), tensor([0., 0.], dtype=torch.float64), tensor([0., 0.], dtype=torch.float64), tensor([0., 0.], dtype=torch.float64), tensor([81.,  0.], dtype=torch.float64), tensor([240.,   0.], dtype=torch.float64), tensor([253.,   0.], dtype=torch.float64), tensor([253.,   0.], dtype=torch.float64), tensor([119.,   0.], dtype=torch.float64), tensor([25.,  0.], dtype=torch.float64), tensor([0., 0.], dtype=torch.float64), tensor([  0., 255.], dtype=torch.float64), tensor([  0., 253.], dtype=torch.float64), tensor([  0., 196.], dtype=torch.float64), tensor([0., 0.], dtype=torch.float64), tensor([0., 0.], dtype=torch.float64), tensor([0., 0.], dtype=torch.float64), tensor([0., 0.], dtype=torch.float64), tensor([0., 0.], dtype=torch.float64), tensor([0., 0.], dtype=torch.float64), tensor([0., 0.], dtype=torch.float64), tensor([0., 0.], dtype=torch.float64), tensor([0., 0.], dtype=torch.float64), tensor([0., 0.], dtype=torch.float64), tensor([0., 0.], dtype=torch.float64), tensor([ 0., 76.], dtype=torch.float64), tensor([  0., 246.], dtype=torch.float64), tensor([  0., 252.], dtype=torch.float64), tensor([  0., 112.], dtype=torch.float64), tensor([0., 0.], dtype=torch.float64), tensor([0., 0.], dtype=torch.float64), tensor([0., 0.], dtype=torch.float64), tensor([0., 0.], dtype=torch.float64), tensor([45.,  0.], dtype=torch.float64), tensor([186.,   0.], dtype=torch.float64), tensor([253.,   0.], dtype=torch.float64), tensor([253.,   0.], dtype=torch.float64), tensor([150.,   0.], dtype=torch.float64), tensor([27.,  0.], dtype=torch.float64), tensor([  0., 253.], dtype=torch.float64), tensor([  0., 252.], dtype=torch.float64), tensor([  0., 148.], dtype=torch.float64), tensor([0., 0.], dtype=torch.float64), tensor([0., 0.], dtype=torch.float64), tensor([0., 0.], dtype=torch.float64), tensor([0., 0.], dtype=torch.float64), tensor([0., 0.], dtype=torch.float64), tensor([0., 0.], dtype=torch.float64), tensor([0., 0.], dtype=torch.float64), tensor([0., 0.], dtype=torch.float64), tensor([0., 0.], dtype=torch.float64), tensor([0., 0.], dtype=torch.float64), tensor([0., 0.], dtype=torch.float64), tensor([ 0., 85.], dtype=torch.float64), tensor([  0., 252.], dtype=torch.float64), tensor([  0., 230.], dtype=torch.float64), tensor([ 0., 25.], dtype=torch.float64), tensor([0., 0.], dtype=torch.float64), tensor([0., 0.], dtype=torch.float64), tensor([0., 0.], dtype=torch.float64), tensor([0., 0.], dtype=torch.float64), tensor([0., 0.], dtype=torch.float64), tensor([16.,  0.], dtype=torch.float64), tensor([93.,  0.], dtype=torch.float64), tensor([252.,   0.], dtype=torch.float64), tensor([253.,   7.], dtype=torch.float64), tensor([187., 135.], dtype=torch.float64), tensor([  0., 253.], dtype=torch.float64), tensor([  0., 186.], dtype=torch.float64), tensor([ 0., 12.], dtype=torch.float64), tensor([0., 0.], dtype=torch.float64), tensor([0., 0.], dtype=torch.float64), tensor([0., 0.], dtype=torch.float64), tensor([0., 0.], dtype=torch.float64), tensor([0., 0.], dtype=torch.float64), tensor([0., 0.], dtype=torch.float64), tensor([0., 0.], dtype=torch.float64), tensor([0., 0.], dtype=torch.float64), tensor([0., 0.], dtype=torch.float64), tensor([0., 0.], dtype=torch.float64), tensor([0., 0.], dtype=torch.float64), tensor([ 0., 85.], dtype=torch.float64), tensor([  0., 252.], dtype=torch.float64), tensor([  0., 223.], dtype=torch.float64), tensor([0., 0.], dtype=torch.float64), tensor([0., 0.], dtype=torch.float64), tensor([0., 0.], dtype=torch.float64), tensor([0., 0.], dtype=torch.float64), tensor([0., 0.], dtype=torch.float64), tensor([0., 0.], dtype=torch.float64), tensor([0., 0.], dtype=torch.float64), tensor([0., 0.], dtype=torch.float64), tensor([249.,   7.], dtype=torch.float64), tensor([253., 131.], dtype=torch.float64), tensor([249., 252.], dtype=torch.float64), tensor([ 64., 225.], dtype=torch.float64), tensor([ 0., 71.], dtype=torch.float64), tensor([0., 0.], dtype=torch.float64), tensor([0., 0.], dtype=torch.float64), tensor([0., 0.], dtype=torch.float64), tensor([0., 0.], dtype=torch.float64), tensor([0., 0.], dtype=torch.float64), tensor([0., 0.], dtype=torch.float64), tensor([0., 0.], dtype=torch.float64), tensor([0., 0.], dtype=torch.float64), tensor([0., 0.], dtype=torch.float64), tensor([0., 0.], dtype=torch.float64), tensor([0., 0.], dtype=torch.float64), tensor([0., 0.], dtype=torch.float64), tensor([ 0., 85.], dtype=torch.float64), tensor([  0., 252.], dtype=torch.float64), tensor([  0., 145.], dtype=torch.float64), tensor([0., 0.], dtype=torch.float64), tensor([0., 0.], dtype=torch.float64), tensor([0., 0.], dtype=torch.float64), tensor([0., 0.], dtype=torch.float64), tensor([0., 0.], dtype=torch.float64), tensor([46.,  0.], dtype=torch.float64), tensor([130.,   0.], dtype=torch.float64), tensor([183.,  48.], dtype=torch.float64), tensor([253., 165.], dtype=torch.float64), tensor([253., 252.], dtype=torch.float64), tensor([207., 173.], dtype=torch.float64), tensor([2., 0.], dtype=torch.float64), tensor([0., 0.], dtype=torch.float64), tensor([0., 0.], dtype=torch.float64), tensor([0., 0.], dtype=torch.float64), tensor([0., 0.], dtype=torch.float64), tensor([0., 0.], dtype=torch.float64), tensor([0., 0.], dtype=torch.float64), tensor([0., 0.], dtype=torch.float64), tensor([0., 0.], dtype=torch.float64), tensor([0., 0.], dtype=torch.float64), tensor([0., 0.], dtype=torch.float64), tensor([0., 0.], dtype=torch.float64), tensor([0., 0.], dtype=torch.float64), tensor([0., 0.], dtype=torch.float64), tensor([ 0., 86.], dtype=torch.float64), tensor([  0., 253.], dtype=torch.float64), tensor([  0., 225.], dtype=torch.float64), tensor([0., 0.], dtype=torch.float64), tensor([0., 0.], dtype=torch.float64), tensor([0., 0.], dtype=torch.float64), tensor([39.,  0.], dtype=torch.float64), tensor([148.,   0.], dtype=torch.float64), tensor([229.,   0.], dtype=torch.float64), tensor([253., 114.], dtype=torch.float64), tensor([253., 238.], dtype=torch.float64), tensor([253., 253.], dtype=torch.float64), tensor([250., 162.], dtype=torch.float64), tensor([182.,   0.], dtype=torch.float64), tensor([0., 0.], dtype=torch.float64), tensor([0., 0.], dtype=torch.float64), tensor([0., 0.], dtype=torch.float64), tensor([0., 0.], dtype=torch.float64), tensor([0., 0.], dtype=torch.float64), tensor([0., 0.], dtype=torch.float64), tensor([0., 0.], dtype=torch.float64), tensor([0., 0.], dtype=torch.float64), tensor([0., 0.], dtype=torch.float64), tensor([0., 0.], dtype=torch.float64), tensor([0., 0.], dtype=torch.float64), tensor([0., 0.], dtype=torch.float64), tensor([0., 0.], dtype=torch.float64), tensor([0., 0.], dtype=torch.float64), tensor([ 0., 85.], dtype=torch.float64), tensor([  0., 252.], dtype=torch.float64), tensor([  0., 249.], dtype=torch.float64), tensor([  0., 146.], dtype=torch.float64), tensor([24., 48.], dtype=torch.float64), tensor([114.,  29.], dtype=torch.float64), tensor([221.,  85.], dtype=torch.float64), tensor([253., 178.], dtype=torch.float64), tensor([253., 225.], dtype=torch.float64), tensor([253., 253.], dtype=torch.float64), tensor([253., 223.], dtype=torch.float64), tensor([201., 167.], dtype=torch.float64), tensor([78., 56.], dtype=torch.float64), tensor([0., 0.], dtype=torch.float64), tensor([0., 0.], dtype=torch.float64), tensor([0., 0.], dtype=torch.float64), tensor([0., 0.], dtype=torch.float64), tensor([0., 0.], dtype=torch.float64), tensor([0., 0.], dtype=torch.float64), tensor([0., 0.], dtype=torch.float64), tensor([0., 0.], dtype=torch.float64), tensor([0., 0.], dtype=torch.float64), tensor([0., 0.], dtype=torch.float64), tensor([0., 0.], dtype=torch.float64), tensor([0., 0.], dtype=torch.float64), tensor([0., 0.], dtype=torch.float64), tensor([0., 0.], dtype=torch.float64), tensor([0., 0.], dtype=torch.float64), tensor([ 0., 85.], dtype=torch.float64), tensor([  0., 252.], dtype=torch.float64), tensor([ 23., 252.], dtype=torch.float64), tensor([ 66., 252.], dtype=torch.float64), tensor([213., 229.], dtype=torch.float64), tensor([253., 215.], dtype=torch.float64), tensor([253., 252.], dtype=torch.float64), tensor([253., 252.], dtype=torch.float64), tensor([253., 252.], dtype=torch.float64), tensor([198., 196.], dtype=torch.float64), tensor([ 81., 130.], dtype=torch.float64), tensor([2., 0.], dtype=torch.float64), tensor([0., 0.], dtype=torch.float64), tensor([0., 0.], dtype=torch.float64), tensor([0., 0.], dtype=torch.float64), tensor([0., 0.], dtype=torch.float64), tensor([0., 0.], dtype=torch.float64), tensor([0., 0.], dtype=torch.float64), tensor([0., 0.], dtype=torch.float64), tensor([0., 0.], dtype=torch.float64), tensor([0., 0.], dtype=torch.float64), tensor([0., 0.], dtype=torch.float64), tensor([0., 0.], dtype=torch.float64), tensor([0., 0.], dtype=torch.float64), tensor([0., 0.], dtype=torch.float64), tensor([0., 0.], dtype=torch.float64), tensor([0., 0.], dtype=torch.float64), tensor([0., 0.], dtype=torch.float64), tensor([18., 28.], dtype=torch.float64), tensor([171., 199.], dtype=torch.float64), tensor([219., 252.], dtype=torch.float64), tensor([253., 252.], dtype=torch.float64), tensor([253., 253.], dtype=torch.float64), tensor([253., 252.], dtype=torch.float64), tensor([253., 252.], dtype=torch.float64), tensor([195., 233.], dtype=torch.float64), tensor([ 80., 145.], dtype=torch.float64), tensor([9., 0.], dtype=torch.float64), tensor([0., 0.], dtype=torch.float64), tensor([0., 0.], dtype=torch.float64), tensor([0., 0.], dtype=torch.float64), tensor([0., 0.], dtype=torch.float64), tensor([0., 0.], dtype=torch.float64), tensor([0., 0.], dtype=torch.float64), tensor([0., 0.], dtype=torch.float64), tensor([0., 0.], dtype=torch.float64), tensor([0., 0.], dtype=torch.float64), tensor([0., 0.], dtype=torch.float64), tensor([0., 0.], dtype=torch.float64), tensor([0., 0.], dtype=torch.float64), tensor([0., 0.], dtype=torch.float64), tensor([0., 0.], dtype=torch.float64), tensor([0., 0.], dtype=torch.float64), tensor([0., 0.], dtype=torch.float64), tensor([55.,  0.], dtype=torch.float64), tensor([172.,   0.], dtype=torch.float64), tensor([226.,   0.], dtype=torch.float64), tensor([253.,  25.], dtype=torch.float64), tensor([253., 128.], dtype=torch.float64), tensor([253., 252.], dtype=torch.float64), tensor([253., 253.], dtype=torch.float64), tensor([244., 252.], dtype=torch.float64), tensor([133., 141.], dtype=torch.float64), tensor([11., 37.], dtype=torch.float64), tensor([0., 0.], dtype=torch.float64), tensor([0., 0.], dtype=torch.float64), tensor([0., 0.], dtype=torch.float64), tensor([0., 0.], dtype=torch.float64), tensor([0., 0.], dtype=torch.float64), tensor([0., 0.], dtype=torch.float64), tensor([0., 0.], dtype=torch.float64), tensor([0., 0.], dtype=torch.float64), tensor([0., 0.], dtype=torch.float64), tensor([0., 0.], dtype=torch.float64), tensor([0., 0.], dtype=torch.float64), tensor([0., 0.], dtype=torch.float64), tensor([0., 0.], dtype=torch.float64), tensor([0., 0.], dtype=torch.float64), tensor([0., 0.], dtype=torch.float64), tensor([0., 0.], dtype=torch.float64), tensor([0., 0.], dtype=torch.float64), tensor([0., 0.], dtype=torch.float64), tensor([136.,   0.], dtype=torch.float64), tensor([253.,   0.], dtype=torch.float64), tensor([253.,   0.], dtype=torch.float64), tensor([253.,   0.], dtype=torch.float64), tensor([212.,   0.], dtype=torch.float64), tensor([135.,   0.], dtype=torch.float64), tensor([132.,   0.], dtype=torch.float64), tensor([16.,  0.], dtype=torch.float64), tensor([0., 0.], dtype=torch.float64), tensor([0., 0.], dtype=torch.float64), tensor([0., 0.], dtype=torch.float64), tensor([0., 0.], dtype=torch.float64), tensor([0., 0.], dtype=torch.float64), tensor([0., 0.], dtype=torch.float64), tensor([0., 0.], dtype=torch.float64), tensor([0., 0.], dtype=torch.float64), tensor([0., 0.], dtype=torch.float64), tensor([0., 0.], dtype=torch.float64), tensor([0., 0.], dtype=torch.float64), tensor([0., 0.], dtype=torch.float64), tensor([0., 0.], dtype=torch.float64), tensor([0., 0.], dtype=torch.float64), tensor([0., 0.], dtype=torch.float64), tensor([0., 0.], dtype=torch.float64), tensor([0., 0.], dtype=torch.float64), tensor([0., 0.], dtype=torch.float64), tensor([0., 0.], dtype=torch.float64), tensor([0., 0.], dtype=torch.float64), tensor([0., 0.], dtype=torch.float64), tensor([0., 0.], dtype=torch.float64), tensor([0., 0.], dtype=torch.float64), tensor([0., 0.], dtype=torch.float64), tensor([0., 0.], dtype=torch.float64), tensor([0., 0.], dtype=torch.float64), tensor([0., 0.], dtype=torch.float64), tensor([0., 0.], dtype=torch.float64), tensor([0., 0.], dtype=torch.float64), tensor([0., 0.], dtype=torch.float64), tensor([0., 0.], dtype=torch.float64), tensor([0., 0.], dtype=torch.float64), tensor([0., 0.], dtype=torch.float64), tensor([0., 0.], dtype=torch.float64), tensor([0., 0.], dtype=torch.float64), tensor([0., 0.], dtype=torch.float64), tensor([0., 0.], dtype=torch.float64), tensor([0., 0.], dtype=torch.float64), tensor([0., 0.], dtype=torch.float64), tensor([0., 0.], dtype=torch.float64), tensor([0., 0.], dtype=torch.float64), tensor([0., 0.], dtype=torch.float64), tensor([0., 0.], dtype=torch.float64), tensor([0., 0.], dtype=torch.float64), tensor([0., 0.], dtype=torch.float64), tensor([0., 0.], dtype=torch.float64), tensor([0., 0.], dtype=torch.float64), tensor([0., 0.], dtype=torch.float64), tensor([0., 0.], dtype=torch.float64), tensor([0., 0.], dtype=torch.float64), tensor([0., 0.], dtype=torch.float64), tensor([0., 0.], dtype=torch.float64), tensor([0., 0.], dtype=torch.float64), tensor([0., 0.], dtype=torch.float64), tensor([0., 0.], dtype=torch.float64), tensor([0., 0.], dtype=torch.float64), tensor([0., 0.], dtype=torch.float64), tensor([0., 0.], dtype=torch.float64), tensor([0., 0.], dtype=torch.float64), tensor([0., 0.], dtype=torch.float64), tensor([0., 0.], dtype=torch.float64), tensor([0., 0.], dtype=torch.float64), tensor([0., 0.], dtype=torch.float64), tensor([0., 0.], dtype=torch.float64), tensor([0., 0.], dtype=torch.float64), tensor([0., 0.], dtype=torch.float64), tensor([0., 0.], dtype=torch.float64), tensor([0., 0.], dtype=torch.float64), tensor([0., 0.], dtype=torch.float64), tensor([0., 0.], dtype=torch.float64), tensor([0., 0.], dtype=torch.float64), tensor([0., 0.], dtype=torch.float64), tensor([0., 0.], dtype=torch.float64), tensor([0., 0.], dtype=torch.float64), tensor([0., 0.], dtype=torch.float64), tensor([0., 0.], dtype=torch.float64), tensor([0., 0.], dtype=torch.float64), tensor([0., 0.], dtype=torch.float64), tensor([0., 0.], dtype=torch.float64), tensor([0., 0.], dtype=torch.float64), tensor([0., 0.], dtype=torch.float64), tensor([0., 0.], dtype=torch.float64), tensor([0., 0.], dtype=torch.float64), tensor([0., 0.], dtype=torch.float64), tensor([0., 0.], dtype=torch.float64), tensor([0., 0.], dtype=torch.float64), tensor([0., 0.], dtype=torch.float64), tensor([0., 0.], dtype=torch.float64), tensor([0., 0.], dtype=torch.float64), tensor([0., 0.], dtype=torch.float64), tensor([0., 0.], dtype=torch.float64), tensor([0., 0.], dtype=torch.float64), tensor([0., 0.], dtype=torch.float64), tensor([0., 0.], dtype=torch.float64), tensor([0., 0.], dtype=torch.float64), tensor([0., 0.], dtype=torch.float64), tensor([0., 0.], dtype=torch.float64), tensor([0., 0.], dtype=torch.float64), tensor([0., 0.], dtype=torch.float64), tensor([0., 0.], dtype=torch.float64)]\n",
            "data 1 size: torch.Size([2])\n",
            "data 1: \n",
            "tensor([5, 0])\n"
          ]
        }
      ]
    },
    {
      "cell_type": "markdown",
      "source": [
        "- 데이터셋 클래스에 이식하기: tensor로 반환하기"
      ],
      "metadata": {
        "id": "sE6GEx3GiIps"
      }
    },
    {
      "cell_type": "code",
      "source": [
        "import torch\n",
        "from torch.utils.data import Dataset\n",
        "\n",
        "class CustomMNIST2(Dataset):\n",
        "  def __init__(self, data_path):\n",
        "    raw_data = pd.read_csv(data_path).fillna(0)\n",
        "\n",
        "    self.dataset = []\n",
        "\n",
        "    for idx in range(len(raw_data)):\n",
        "      _data = raw_data.loc[idx]  \n",
        "      _data = _data.tolist()\n",
        "\n",
        "      # label 과 데이터로 분리\n",
        "      label = int(_data[0])\n",
        "      data = _data[1:]\n",
        "\n",
        "      self.dataset.append([data, label])\n",
        "\n",
        "  def __len__(self):\n",
        "    return len(self.dataset)\n",
        "\n",
        "  def __getitem__(self, idx):\n",
        "    data, label = self.dataset[idx]\n",
        "\n",
        "    data = torch.tensor(data)\n",
        "\n",
        "    return data, label"
      ],
      "metadata": {
        "id": "ss3F1otaK6KH"
      },
      "execution_count": 63,
      "outputs": []
    },
    {
      "cell_type": "code",
      "source": [
        "train_path = '/content/MNIST/mnist_train.csv'\n",
        "test_path = '/content/MNIST/mnist_test.csv'\n",
        "\n",
        "train_dataset2 = CustomMNIST2(train_path)\n",
        "print(len(train_dataset2))\n",
        "temp_data, temp_label = train_dataset2[0]\n",
        "print(type(temp_data))\n",
        "print(temp_label)\n",
        "print(len(temp_data))"
      ],
      "metadata": {
        "colab": {
          "base_uri": "https://localhost:8080/"
        },
        "id": "QZN9pc6_iGTA",
        "outputId": "f5cb32f0-497b-4103-e567-84a13cd823dc"
      },
      "execution_count": 64,
      "outputs": [
        {
          "output_type": "stream",
          "name": "stdout",
          "text": [
            "1721\n",
            "<class 'torch.Tensor'>\n",
            "5\n",
            "784\n"
          ]
        }
      ]
    },
    {
      "cell_type": "code",
      "source": [
        "# 위의 custom dataset은 문제가 있음.\n",
        "# 무엇이 문제인지 확인.\n",
        "from torch.utils.data import DataLoader\n",
        "\n",
        "batch_size = 2\n",
        "train_loader2 = DataLoader(train_dataset2, batch_size=batch_size)\n",
        "\n",
        "for data in train_loader2:\n",
        "  print(f\"data type: {type(data)}\") # data is list type\n",
        "  print(f\"data length: {len(data)}\")\n",
        "  \n",
        "  print(type(data[0]))\n",
        "  print(type(data[1]))\n",
        "\n",
        "  print(f\"data 0 length: {len(data[0])}\")\n",
        "  print(f\"data 0: \\n{data[0]}\")\n",
        "\n",
        "  print(f\"data 1 size: {data[1].size()}\")\n",
        "  print(f\"data 1: \\n{data[1]}\")\n",
        "\n",
        "  break"
      ],
      "metadata": {
        "colab": {
          "base_uri": "https://localhost:8080/"
        },
        "id": "xv_GvbCJiaYr",
        "outputId": "a54bddcd-caf6-43a9-9226-5b9307712e71"
      },
      "execution_count": 65,
      "outputs": [
        {
          "output_type": "stream",
          "name": "stdout",
          "text": [
            "data type: <class 'list'>\n",
            "data length: 2\n",
            "<class 'torch.Tensor'>\n",
            "<class 'torch.Tensor'>\n",
            "data 0 length: 2\n",
            "data 0: \n",
            "tensor([[0., 0., 0.,  ..., 0., 0., 0.],\n",
            "        [0., 0., 0.,  ..., 0., 0., 0.]])\n",
            "data 1 size: torch.Size([2])\n",
            "data 1: \n",
            "tensor([5, 0])\n"
          ]
        }
      ]
    },
    {
      "cell_type": "code",
      "source": [
        ""
      ],
      "metadata": {
        "id": "byqWTk_-iygW"
      },
      "execution_count": null,
      "outputs": []
    }
  ]
}