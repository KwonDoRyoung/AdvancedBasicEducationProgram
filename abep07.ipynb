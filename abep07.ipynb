{
  "nbformat": 4,
  "nbformat_minor": 0,
  "metadata": {
    "colab": {
      "name": "\babep07.ipynb",
      "provenance": [],
      "authorship_tag": "ABX9TyOFDHlXDjw8Pjq0O2mwPBTX",
      "include_colab_link": true
    },
    "kernelspec": {
      "name": "python3",
      "display_name": "Python 3"
    },
    "language_info": {
      "name": "python"
    }
  },
  "cells": [
    {
      "cell_type": "markdown",
      "metadata": {
        "id": "view-in-github",
        "colab_type": "text"
      },
      "source": [
        "<a href=\"https://colab.research.google.com/github/KwonDoRyoung/AdvancedBasicEducationProgram/blob/main/%08abep07.ipynb\" target=\"_parent\"><img src=\"https://colab.research.google.com/assets/colab-badge.svg\" alt=\"Open In Colab\"/></a>"
      ]
    },
    {
      "cell_type": "markdown",
      "source": [
        "#   PyTorch 활용하기"
      ],
      "metadata": {
        "id": "Uikn0d7hAJdJ"
      }
    },
    {
      "cell_type": "markdown",
      "source": [
        "---\n",
        "##▶︎ 오늘 강의내용\n",
        "*   Pytorch Tensor 이해하기\n",
        "*   Pytorch 활용하여 Linear regression 구현\n",
        "*   Pytorch 활용하여 L\bogistic regression 구현"
      ],
      "metadata": {
        "id": "CkqglWk3AJTi"
      }
    },
    {
      "cell_type": "markdown",
      "source": [
        "---\n",
        "##⦿   Pytorch Tensor 종류 및 특징\n",
        "- Tensor는 배열 및 행렬과 유사한 데이터 구조\n",
        "- Pytorch Tensor는 Numpy ndarray와 유사함\n",
        "- Pytorch Tensor는 미분에 최적화되어 있음\n",
        "![Alt Text](https://github.com/KwonDoRyoung/AdvancedBasicEducationProgram/blob/main/markdown_images/doc_tensor.png?raw=true)"
      ],
      "metadata": {
        "id": "7nZaGG7SDZMY"
      }
    },
    {
      "cell_type": "code",
      "execution_count": 6,
      "metadata": {
        "id": "E2U_KnpJ_6yM",
        "colab": {
          "base_uri": "https://localhost:8080/"
        },
        "outputId": "34abe6cd-a8a1-406d-eaf6-49fb53e44f2d"
      },
      "outputs": [
        {
          "output_type": "stream",
          "name": "stdout",
          "text": [
            "* list\n",
            "[[5, 7], [11, 9]]\n",
            "\n",
            "* numpy:\n",
            "[[ 5  7]\n",
            " [11  9]]\n",
            "\n",
            "* tensor:\n",
            "tensor([[ 5,  7],\n",
            "        [11,  9]])\n"
          ]
        }
      ],
      "source": [
        "import torch\n",
        "import numpy as np\n",
        "\n",
        "data = [[5, 7], [11, 9]]\n",
        "n_data = np.array([[5, 7], [11, 9]])\n",
        "t_data = torch.tensor([[5, 7], [11, 9]])\n",
        "\n",
        "# 보기 쉽게 하기 위해 다음과 같이 표현함\n",
        "print(f\"* list\\n{data}\\n\")\n",
        "print(f\"* numpy:\\n{n_data}\\n\")\n",
        "print(f\"* tensor:\\n{t_data}\")"
      ]
    },
    {
      "cell_type": "markdown",
      "source": [
        "###• Numpy ⇔ Tensor 서로 변환하기"
      ],
      "metadata": {
        "id": "qzKWARG7KgEC"
      }
    },
    {
      "cell_type": "code",
      "source": [
        ""
      ],
      "metadata": {
        "id": "Xt3NhbmuKZbV"
      },
      "execution_count": null,
      "outputs": []
    },
    {
      "cell_type": "markdown",
      "source": [
        "###• \b크기가 동일하지만 데이터는 다르게 만드는 Tensor"
      ],
      "metadata": {
        "id": "FeTd40UcKo49"
      }
    },
    {
      "cell_type": "code",
      "source": [
        "import torch\n",
        "\n",
        "t_data = torch.tensor([[5, 7], [11, 9]])\n",
        "\n",
        "t_ones = torch.ones_like(t_data)\n",
        "print(f\"Ones Tensor:\\n {t_ones}\\n\")"
      ],
      "metadata": {
        "colab": {
          "base_uri": "https://localhost:8080/"
        },
        "id": "ylMgV2PyHkse",
        "outputId": "92bb657e-f2f8-4049-a6b7-bbf861f73bc2"
      },
      "execution_count": 7,
      "outputs": [
        {
          "output_type": "stream",
          "name": "stdout",
          "text": [
            "Ones Tensor:\n",
            " tensor([[1, 1],\n",
            "        [1, 1]])\n",
            "\n"
          ]
        }
      ]
    },
    {
      "cell_type": "markdown",
      "source": [
        "###• Random & Constant "
      ],
      "metadata": {
        "id": "RaoXTA9pK0s5"
      }
    },
    {
      "cell_type": "code",
      "source": [
        ""
      ],
      "metadata": {
        "id": "mGR7nifwKTBg"
      },
      "execution_count": null,
      "outputs": []
    },
    {
      "cell_type": "markdown",
      "source": [
        "###• Tensor 의 부가적인 속성"
      ],
      "metadata": {
        "id": "ntt7U7etLXmX"
      }
    },
    {
      "cell_type": "code",
      "source": [
        ""
      ],
      "metadata": {
        "id": "2c97HlLmLYz0"
      },
      "execution_count": null,
      "outputs": []
    },
    {
      "cell_type": "markdown",
      "source": [
        "---\n",
        "##⦿   Pytorch Tensor 연산"
      ],
      "metadata": {
        "id": "O3CWcdHfLkT4"
      }
    },
    {
      "cell_type": "markdown",
      "source": [
        "###• Slicing & Indexing"
      ],
      "metadata": {
        "id": "8jCvPCIZLj5T"
      }
    },
    {
      "cell_type": "code",
      "source": [
        ""
      ],
      "metadata": {
        "id": "5yHJc6ybLkOq"
      },
      "execution_count": null,
      "outputs": []
    },
    {
      "cell_type": "markdown",
      "source": [
        "###• Slicing & Indexing"
      ],
      "metadata": {
        "id": "F_i_YuJdOAFa"
      }
    },
    {
      "cell_type": "code",
      "source": [
        ""
      ],
      "metadata": {
        "id": "nundx0ipLjwM"
      },
      "execution_count": null,
      "outputs": []
    },
    {
      "cell_type": "markdown",
      "source": [
        "###• Concatenate or Stack"
      ],
      "metadata": {
        "id": "dSAt2HbvRZ9j"
      }
    },
    {
      "cell_type": "code",
      "source": [
        ""
      ],
      "metadata": {
        "id": "55Iwt1diRa-b"
      },
      "execution_count": null,
      "outputs": []
    },
    {
      "cell_type": "markdown",
      "source": [
        "###• 행렬 연산"
      ],
      "metadata": {
        "id": "mYyzHjDtRaZv"
      }
    },
    {
      "cell_type": "code",
      "source": [
        ""
      ],
      "metadata": {
        "id": "HUpa3NYrRbWc"
      },
      "execution_count": null,
      "outputs": []
    },
    {
      "cell_type": "markdown",
      "source": [
        "---\n",
        "##⦿   Linear regression 구현"
      ],
      "metadata": {
        "id": "ltRevIISLjgT"
      }
    },
    {
      "cell_type": "code",
      "source": [
        ""
      ],
      "metadata": {
        "id": "j02xaUbkSl8f"
      },
      "execution_count": null,
      "outputs": []
    },
    {
      "cell_type": "markdown",
      "source": [
        "---\n",
        "##⦿   \bL\bogistic regression 구현"
      ],
      "metadata": {
        "id": "GZOo_Ma0THG9"
      }
    },
    {
      "cell_type": "code",
      "source": [
        ""
      ],
      "metadata": {
        "id": "mOGB2mqlTI3E"
      },
      "execution_count": null,
      "outputs": []
    }
  ]
}