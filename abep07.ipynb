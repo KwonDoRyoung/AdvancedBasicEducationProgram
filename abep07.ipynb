{
  "nbformat": 4,
  "nbformat_minor": 0,
  "metadata": {
    "colab": {
      "name": "\babep07.ipynb",
      "provenance": [],
      "authorship_tag": "ABX9TyNLy6OP5aWM1ji1N449YazV",
      "include_colab_link": true
    },
    "kernelspec": {
      "name": "python3",
      "display_name": "Python 3"
    },
    "language_info": {
      "name": "python"
    },
    "accelerator": "GPU"
  },
  "cells": [
    {
      "cell_type": "markdown",
      "metadata": {
        "id": "view-in-github",
        "colab_type": "text"
      },
      "source": [
        "<a href=\"https://colab.research.google.com/github/KwonDoRyoung/AdvancedBasicEducationProgram/blob/main/%08abep07.ipynb\" target=\"_parent\"><img src=\"https://colab.research.google.com/assets/colab-badge.svg\" alt=\"Open In Colab\"/></a>"
      ]
    },
    {
      "cell_type": "markdown",
      "source": [
        "#   PyTorch 활용하기"
      ],
      "metadata": {
        "id": "Uikn0d7hAJdJ"
      }
    },
    {
      "cell_type": "markdown",
      "source": [
        "---\n",
        "##▶︎ 오늘 강의내용\n",
        "*   Pytorch Tensor 이해하기\n",
        "*   Pytorch 활용하여 Linear regression 구현\n",
        "*   Pytorch 활용하여 L\bogistic regression 구현"
      ],
      "metadata": {
        "id": "CkqglWk3AJTi"
      }
    },
    {
      "cell_type": "markdown",
      "source": [
        "---\n",
        "##⦿   Pytorch Tensor 종류 및 특징\n",
        "- Tensor는 배열 및 행렬과 유사한 데이터 구조\n",
        "- Pytorch Tensor는 Numpy ndarray와 유사함\n",
        "- Pytorch Tensor는 미분에 최적화되어 있음\n",
        "![Alt Text](https://github.com/KwonDoRyoung/AdvancedBasicEducationProgram/blob/main/markdown_images/doc_tensor.png?raw=true)"
      ],
      "metadata": {
        "id": "7nZaGG7SDZMY"
      }
    },
    {
      "cell_type": "code",
      "execution_count": null,
      "metadata": {
        "id": "E2U_KnpJ_6yM",
        "colab": {
          "base_uri": "https://localhost:8080/"
        },
        "outputId": "34abe6cd-a8a1-406d-eaf6-49fb53e44f2d"
      },
      "outputs": [
        {
          "output_type": "stream",
          "name": "stdout",
          "text": [
            "* list\n",
            "[[5, 7], [11, 9]]\n",
            "\n",
            "* numpy:\n",
            "[[ 5  7]\n",
            " [11  9]]\n",
            "\n",
            "* tensor:\n",
            "tensor([[ 5,  7],\n",
            "        [11,  9]])\n"
          ]
        }
      ],
      "source": [
        "import torch\n",
        "import numpy as np\n",
        "\n",
        "data = [[5, 7], [11, 9]]\n",
        "n_data = np.array([[5, 7], [11, 9]])\n",
        "t_data = torch.tensor([[5, 7], [11, 9]])\n",
        "\n",
        "# 보기 쉽게 하기 위해 다음과 같이 표현함\n",
        "print(f\"* list\\n{data}\\n\")\n",
        "print(f\"* numpy:\\n{n_data}\\n\")\n",
        "print(f\"* tensor:\\n{t_data}\")"
      ]
    },
    {
      "cell_type": "markdown",
      "source": [
        "###• Random & Constant \n",
        "  - 다양한 텐서를 생성할 수 있음"
      ],
      "metadata": {
        "id": "RaoXTA9pK0s5"
      }
    },
    {
      "cell_type": "code",
      "source": [
        "import torch\n",
        "\n",
        "x = torch.empty(5,4) # 비어있는 행렬\n",
        "print(x)\n",
        "\n",
        "x = torch.rand(5,4) # 무작위 행렬\n",
        "print(x)\n",
        "\n",
        "x = torch.eye(5) # 단위행렬 I\n",
        "print(x)\n",
        "\n",
        "x = torch.zeros(5,4) # 영행렬\n",
        "print(x)\n",
        "\n",
        "x = torch.FloatTensor([1,2,3,4,5,6]) # Float\n",
        "print(x)\n",
        "\n",
        "x = torch.BoolTensor([1,2,3,4,5,-1,0,-2]) # Boolean \n",
        "print(x)"
      ],
      "metadata": {
        "id": "mGR7nifwKTBg",
        "colab": {
          "base_uri": "https://localhost:8080/"
        },
        "outputId": "be86f342-f739-4004-ec70-bf69d177fe4c"
      },
      "execution_count": 22,
      "outputs": [
        {
          "output_type": "stream",
          "name": "stdout",
          "text": [
            "tensor([[1.3579e-25, 3.0949e-41, 7.0065e-44, 7.0065e-44],\n",
            "        [6.3058e-44, 6.7262e-44, 6.8664e-44, 6.3058e-44],\n",
            "        [6.7262e-44, 7.1466e-44, 1.1771e-43, 6.7262e-44],\n",
            "        [6.8664e-44, 8.1275e-44, 7.4269e-44, 7.0065e-44],\n",
            "        [8.1275e-44, 7.1466e-44, 7.9874e-44, 6.4460e-44]])\n",
            "tensor([[0.9241, 0.9833, 0.6422, 0.6626],\n",
            "        [0.7603, 0.6366, 0.2586, 0.9663],\n",
            "        [0.1503, 0.3585, 0.9049, 0.2864],\n",
            "        [0.4894, 0.9128, 0.2349, 0.3090],\n",
            "        [0.3278, 0.2463, 0.0080, 0.0383]])\n",
            "tensor([[1., 0., 0., 0., 0.],\n",
            "        [0., 1., 0., 0., 0.],\n",
            "        [0., 0., 1., 0., 0.],\n",
            "        [0., 0., 0., 1., 0.],\n",
            "        [0., 0., 0., 0., 1.]])\n",
            "tensor([[0., 0., 0., 0.],\n",
            "        [0., 0., 0., 0.],\n",
            "        [0., 0., 0., 0.],\n",
            "        [0., 0., 0., 0.],\n",
            "        [0., 0., 0., 0.]])\n",
            "tensor([1., 2., 3., 4., 5., 6.])\n",
            "tensor([ True,  True,  True,  True,  True,  True, False,  True])\n"
          ]
        }
      ]
    },
    {
      "cell_type": "markdown",
      "source": [
        "###• \b크기가 동일하지만 데이터는 다르게 만드는 Tensor"
      ],
      "metadata": {
        "id": "FeTd40UcKo49"
      }
    },
    {
      "cell_type": "code",
      "source": [
        "import torch\n",
        "\n",
        "t_data = torch.tensor([[5, 7], [11, 9]])\n",
        "\n",
        "t_ones = torch.ones_like(t_data)\n",
        "print(f\"Ones Tensor:\\n {t_ones}\")"
      ],
      "metadata": {
        "colab": {
          "base_uri": "https://localhost:8080/"
        },
        "id": "ylMgV2PyHkse",
        "outputId": "4e27d172-05c4-4ef2-a3ee-599403ecc5fe"
      },
      "execution_count": 35,
      "outputs": [
        {
          "output_type": "stream",
          "name": "stdout",
          "text": [
            "Ones Tensor:\n",
            " tensor([[1, 1],\n",
            "        [1, 1]])\n"
          ]
        }
      ]
    },
    {
      "cell_type": "markdown",
      "source": [
        "###• Tensor 의 부가적인 속성\n",
        "  - shape or size: 형태\n",
        "  - dim: 차원"
      ],
      "metadata": {
        "id": "ntt7U7etLXmX"
      }
    },
    {
      "cell_type": "code",
      "source": [
        "import torch\n",
        "\n",
        "t = torch.tensor([[[255,99,255],[128,8,39],[1,3,52],[128,0,128],[1,3,52],[0,255,255]],\n",
        "                  [[255,9,255],[128,123,39],[1,3,52],[255,9,255],[128,123,39],[1,3,52]],\n",
        "                  [[1,3,52],[128,0,128],[255,255,0],[255,99,255],[128,8,39],[1,3,52]],\n",
        "                  [[128,0,128],[1,3,52],[0,255,255],[255,9,255],[128,123,39],[1,3,52]]])\n",
        "print(f\"Size: {t.size()}\")\n",
        "print(f\"Shape: {t.shape}\")\n",
        "print(f\"dim: {t.dim()}\")"
      ],
      "metadata": {
        "id": "2c97HlLmLYz0",
        "colab": {
          "base_uri": "https://localhost:8080/"
        },
        "outputId": "d5d626ee-30c9-4acb-f839-870a84497a48"
      },
      "execution_count": 34,
      "outputs": [
        {
          "output_type": "stream",
          "name": "stdout",
          "text": [
            "Size: torch.Size([4, 6, 3])\n",
            "Shape: torch.Size([4, 6, 3])\n",
            "dim: 3\n"
          ]
        }
      ]
    },
    {
      "cell_type": "markdown",
      "source": [
        "---\n",
        "##⦿   Pytorch Tensor 연산"
      ],
      "metadata": {
        "id": "O3CWcdHfLkT4"
      }
    },
    {
      "cell_type": "markdown",
      "source": [
        "###• Slicing & Indexing\n",
        "  - numpy와 동일한 Slicing & Indexing 연산을 가짐"
      ],
      "metadata": {
        "id": "8jCvPCIZLj5T"
      }
    },
    {
      "cell_type": "code",
      "source": [
        "import torch\n",
        "\n",
        "x = torch.FloatTensor([1,2,3,4,5,6]) # Float\n",
        "print(x)\n",
        "print(x[1:3])\n",
        "print(x[3])\n",
        "print(x[3:4]) # 아래의 "
      ],
      "metadata": {
        "id": "5yHJc6ybLkOq",
        "colab": {
          "base_uri": "https://localhost:8080/"
        },
        "outputId": "a6227614-1a32-499f-88c4-b7a4b79d31e7"
      },
      "execution_count": 38,
      "outputs": [
        {
          "output_type": "stream",
          "name": "stdout",
          "text": [
            "tensor([1., 2., 3., 4., 5., 6.])\n",
            "tensor([2., 3.])\n",
            "tensor(4.)\n",
            "tensor([4.])\n"
          ]
        }
      ]
    },
    {
      "cell_type": "markdown",
      "source": [
        "###• Reshape & Squeeze & Concatenate or Stack\n",
        "  - 행렬의 구조를 변경하는 함수\n",
        "    - Reshape: 행령의 형태를 변경하는 함수 \n",
        "    - Squeeze: 행렬의 특정 축을 추가하는 함수\n",
        "    - Unsqueeze: 행렬 중 1의 크기를 가지는 축을 줄임\n",
        "    - Concatenate(cat or stack): 두 행렬을 특정 축으로 결합시킴(특정 축 방향이 동일한 크기여야함)"
      ],
      "metadata": {
        "id": "dSAt2HbvRZ9j"
      }
    },
    {
      "cell_type": "code",
      "source": [
        "t = np.array([[[0, 1, 2], [3, 4, 5]], [[6, 7, 8], [9, 10 ,11]]])\n",
        "ft = torch.FloatTensor(t)\n",
        "print(ft.shape)\n",
        "\n",
        "print(\"\\n3차원 텐서에서 2차원 텐서로 변경\")\n",
        "print(ft.view([-1, 3]))\n",
        "print(ft.view([-1, 3]).shape)\n",
        "\n",
        "print(\"\\n3차원 텐서의 크기 변경\")\n",
        "print(ft.view([-1, 1, 3]))\n",
        "print(ft.view([-1, 1, 3]).shape)\n",
        "\n",
        "print(\"\\n스퀴즈: -1차원을 제거한다.\")\n",
        "ft = torch.FloatTensor([[0], [1], [2]])\n",
        "print(ft.shape)\n",
        "ft = ft.squeeze()\n",
        "print(ft.shape)\n",
        "\n",
        "print(\"\\n언스퀴즈: 특정 위치에 1인 차원을 추가한다.\")\n",
        "ft = torch.Tensor([0, 1, 2])\n",
        "print(\"\\t 0 차원 추가\")\n",
        "print(ft.shape)\n",
        "ft = ft.unsqueeze(0)\n",
        "print(ft.shape)\n",
        "\n",
        "print(\"\\n2차원으로 변경\")\n",
        "print(ft)\n",
        "ft = ft.view(1, -1)\n",
        "print(ft.shape)\n",
        "print(ft)\n",
        "\n",
        "print(\"\\n 차원 추가\")\n",
        "print(ft.shape)\n",
        "print(ft)\n",
        "ft = ft.unsqueeze(-1)\n",
        "print(ft.shape)\n",
        "print(ft)\n",
        "\n",
        "print(\"\\n연결하기\")\n",
        "x = torch.FloatTensor([[1,2], [3,4]])\n",
        "y = torch.FloatTensor([[5,6], [7,8]])\n",
        "print(torch.cat([x,y], dim=0))\n",
        "print(torch.cat([x,y], dim=1))"
      ],
      "metadata": {
        "id": "55Iwt1diRa-b",
        "colab": {
          "base_uri": "https://localhost:8080/"
        },
        "outputId": "eb2c57b9-8888-40b3-db4e-a3897828eaf5"
      },
      "execution_count": 54,
      "outputs": [
        {
          "output_type": "stream",
          "name": "stdout",
          "text": [
            "torch.Size([2, 2, 3])\n",
            "\n",
            "3차원 텐서에서 2차원 텐서로 변경\n",
            "tensor([[ 0.,  1.,  2.],\n",
            "        [ 3.,  4.,  5.],\n",
            "        [ 6.,  7.,  8.],\n",
            "        [ 9., 10., 11.]])\n",
            "torch.Size([4, 3])\n",
            "\n",
            "3차원 텐서의 크기 변경\n",
            "tensor([[[ 0.,  1.,  2.]],\n",
            "\n",
            "        [[ 3.,  4.,  5.]],\n",
            "\n",
            "        [[ 6.,  7.,  8.]],\n",
            "\n",
            "        [[ 9., 10., 11.]]])\n",
            "torch.Size([4, 1, 3])\n",
            "\n",
            "스퀴즈: -1차원을 제거한다.\n",
            "torch.Size([3, 1])\n",
            "torch.Size([3])\n",
            "\n",
            "언스퀴즈: 특정 위치에 1인 차원을 추가한다.\n",
            "\t 0 차원 추가\n",
            "torch.Size([3])\n",
            "torch.Size([1, 3])\n",
            "\n",
            "2차원으로 변경\n",
            "tensor([[0., 1., 2.]])\n",
            "torch.Size([1, 3])\n",
            "tensor([[0., 1., 2.]])\n",
            "\n",
            " 차원 추가\n",
            "torch.Size([1, 3])\n",
            "tensor([[0., 1., 2.]])\n",
            "torch.Size([1, 3, 1])\n",
            "tensor([[[0.],\n",
            "         [1.],\n",
            "         [2.]]])\n",
            "\n",
            "연결하기\n",
            "tensor([[1., 2.],\n",
            "        [3., 4.],\n",
            "        [5., 6.],\n",
            "        [7., 8.]])\n",
            "tensor([[1., 2., 5., 6.],\n",
            "        [3., 4., 7., 8.]])\n"
          ]
        }
      ]
    },
    {
      "cell_type": "markdown",
      "source": [
        "###• 행렬 연산\n",
        "  1. 사칙연산 중 덧셈과 뺄셈은 일반적인 a+b, a-b 따름\n",
        "    - 행렬 연산의 경우 동일한 크기\n",
        "    - 상수 연산의 경우 동일할 필요 없음(Bias)\n",
        "  2. 곱셈에서는 2가지로 분리\n",
        "    - *기호: 원소끼리의 곱하기\n",
        "    - @기호: 행렬 곱하기\n",
        "  3. 나눗셈 기호는 스칼라 값에 대해서만 가능\n",
        "  4. 역행령의 경우 함수를 이용함: torch.inverse(tensor)"
      ],
      "metadata": {
        "id": "mYyzHjDtRaZv"
      }
    },
    {
      "cell_type": "code",
      "source": [
        "import torch\n",
        "\n",
        "A = torch.arange(1.0, 13.0).view(4, 3)\n",
        "B = torch.rand(4, 3)\n",
        "C = torch.rand(3, 4)\n",
        "print(A)\n",
        "print(B)\n",
        "print(C)\n",
        "\n",
        "#(1). 행렬의 덧셈\n",
        "print(A+B)\n",
        "\n",
        "#(2). 행렬의 뺄셈\n",
        "print(A-B)\n",
        "\n",
        "#(3). 행렬에 상수를 빼거나 더하기\n",
        "print(A-1)\n",
        "print(B+2)\n",
        "\n",
        "#(4). 행렬의 곱셈\n",
        "print(A*B) #그냥 원소별로 곱해짐\n",
        "print(A@C) #행렬 곱\n",
        "\n",
        "#(5). 역행렬\n",
        "t = torch.FloatTensor([[1,2], [3,4]])\n",
        "print(t)\n",
        "print(torch.inverse(t))"
      ],
      "metadata": {
        "id": "HUpa3NYrRbWc"
      },
      "execution_count": null,
      "outputs": []
    },
    {
      "cell_type": "markdown",
      "source": [
        "---\n",
        "##⦿   Numpy ⇔ Tensor 고찰\n",
        "1. CPU Type\n",
        "  -  기본적으로 메모리(Memory) 위치(location)을 공유함\n",
        "  -  하나의 값이 변경되면 다른 하나의 값도 변경될 수 있음\n",
        "  - Numpy ⇒ Tensor\n",
        "  ```python\n",
        "    ndarray = np.ones(15) # numpy ndarray\n",
        "    tensor_array = torch.from_numpy(ndarray) \n",
        "  ```\n",
        "  - Tensor ⇒ Numpy\n",
        "  ```python\n",
        "    tensor_array = torch.ones(15) # torch tensor\n",
        "    ndarray = tensor_array.numpy()\n",
        "  ```\n",
        "2. GPU Type\n",
        "  -  CPU 메모리(Memory)에서 GPU 메모리(Memory)로 복사하기 때문에 완전히 다른 객체로 인식함\n",
        "  - Numpy(CPU)  Tensor(GPU)\n",
        "  ```python\n",
        "    ndarray = np.ones(15) # numpy ndarray\n",
        "    tensor_array = torch.from_numpy(ndarray).to(\"cuda\")\n",
        "  ```\n",
        "  - Tensor(GPU) ⇒ Numpy(CPU)\n",
        "  ```python\n",
        "    tensor_array = torch.ones(15)\n",
        "    ndarray = tensor_array.cpu().numpy()\n",
        "  ```\n"
      ],
      "metadata": {
        "id": "qzKWARG7KgEC"
      }
    },
    {
      "cell_type": "code",
      "source": [
        "import torch\n",
        "import numpy as np\n",
        "\n",
        "n = np.ones([3,5])\n",
        "t = torch.from_numpy(n)\n",
        "print(n)\n",
        "print(t)\n",
        "\n",
        "np.add(n, 1, out=n)\n",
        "print(f\"t: {t}\")\n",
        "print(f\"n: {n}\")"
      ],
      "metadata": {
        "id": "Xt3NhbmuKZbV",
        "colab": {
          "base_uri": "https://localhost:8080/"
        },
        "outputId": "b424c99d-70b7-4ad3-c09e-2638c22c123f"
      },
      "execution_count": 9,
      "outputs": [
        {
          "output_type": "stream",
          "name": "stdout",
          "text": [
            "[[1. 1. 1. 1. 1.]\n",
            " [1. 1. 1. 1. 1.]\n",
            " [1. 1. 1. 1. 1.]]\n",
            "tensor([[1., 1., 1., 1., 1.],\n",
            "        [1., 1., 1., 1., 1.],\n",
            "        [1., 1., 1., 1., 1.]], dtype=torch.float64)\n",
            "t: tensor([[2., 2., 2., 2., 2.],\n",
            "        [2., 2., 2., 2., 2.],\n",
            "        [2., 2., 2., 2., 2.]], dtype=torch.float64)\n",
            "n: [[2. 2. 2. 2. 2.]\n",
            " [2. 2. 2. 2. 2.]\n",
            " [2. 2. 2. 2. 2.]]\n"
          ]
        }
      ]
    },
    {
      "cell_type": "code",
      "source": [
        "import torch\n",
        "import numpy as np\n",
        "\n",
        "t = torch.ones([3,5])\n",
        "n = t.numpy()\n",
        "\n",
        "print(n)\n",
        "print(t)\n",
        "\n",
        "t.add_(1)\n",
        "print(f\"t: {t}\")\n",
        "print(f\"n: {n}\")"
      ],
      "metadata": {
        "colab": {
          "base_uri": "https://localhost:8080/"
        },
        "id": "_aXsvT4Wli9N",
        "outputId": "cc3e60fc-b93a-4900-9f8c-5a6c75d01ced"
      },
      "execution_count": 12,
      "outputs": [
        {
          "output_type": "stream",
          "name": "stdout",
          "text": [
            "[[1. 1. 1. 1. 1.]\n",
            " [1. 1. 1. 1. 1.]\n",
            " [1. 1. 1. 1. 1.]]\n",
            "tensor([[1., 1., 1., 1., 1.],\n",
            "        [1., 1., 1., 1., 1.],\n",
            "        [1., 1., 1., 1., 1.]])\n",
            "t: tensor([[2., 2., 2., 2., 2.],\n",
            "        [2., 2., 2., 2., 2.],\n",
            "        [2., 2., 2., 2., 2.]])\n",
            "n: [[2. 2. 2. 2. 2.]\n",
            " [2. 2. 2. 2. 2.]\n",
            " [2. 2. 2. 2. 2.]]\n"
          ]
        }
      ]
    },
    {
      "cell_type": "code",
      "source": [
        "import torch\n",
        "import numpy as np\n",
        "\n",
        "n = np.ones([3,5])\n",
        "t = torch.from_numpy(n).to(\"cuda\")\n",
        "print(n)\n",
        "print(t)\n",
        "\n",
        "np.add(n, 1, out=n)\n",
        "print(f\"t: {t}\")\n",
        "print(f\"n: {n}\")"
      ],
      "metadata": {
        "colab": {
          "base_uri": "https://localhost:8080/"
        },
        "id": "RVk2GXhBl_zn",
        "outputId": "61532919-9703-46bd-b179-e459c5b380ea"
      },
      "execution_count": 13,
      "outputs": [
        {
          "output_type": "stream",
          "name": "stdout",
          "text": [
            "[[1. 1. 1. 1. 1.]\n",
            " [1. 1. 1. 1. 1.]\n",
            " [1. 1. 1. 1. 1.]]\n",
            "tensor([[1., 1., 1., 1., 1.],\n",
            "        [1., 1., 1., 1., 1.],\n",
            "        [1., 1., 1., 1., 1.]], device='cuda:0', dtype=torch.float64)\n",
            "t: tensor([[1., 1., 1., 1., 1.],\n",
            "        [1., 1., 1., 1., 1.],\n",
            "        [1., 1., 1., 1., 1.]], device='cuda:0', dtype=torch.float64)\n",
            "n: [[2. 2. 2. 2. 2.]\n",
            " [2. 2. 2. 2. 2.]\n",
            " [2. 2. 2. 2. 2.]]\n"
          ]
        }
      ]
    },
    {
      "cell_type": "code",
      "source": [
        "import torch\n",
        "import numpy as np\n",
        "\n",
        "t = torch.ones([3,5]).to(\"cuda\")\n",
        "n = t.cpu().numpy()\n",
        "\n",
        "print(n)\n",
        "print(t)\n",
        "\n",
        "t.add_(1)\n",
        "print(f\"t: {t}\")\n",
        "print(f\"n: {n}\")"
      ],
      "metadata": {
        "colab": {
          "base_uri": "https://localhost:8080/"
        },
        "id": "Z90ye7J1mEIg",
        "outputId": "9c5e55e7-ace0-47d2-c320-b7a99c284cb6"
      },
      "execution_count": 15,
      "outputs": [
        {
          "output_type": "stream",
          "name": "stdout",
          "text": [
            "[[1. 1. 1. 1. 1.]\n",
            " [1. 1. 1. 1. 1.]\n",
            " [1. 1. 1. 1. 1.]]\n",
            "tensor([[1., 1., 1., 1., 1.],\n",
            "        [1., 1., 1., 1., 1.],\n",
            "        [1., 1., 1., 1., 1.]], device='cuda:0')\n",
            "t: tensor([[2., 2., 2., 2., 2.],\n",
            "        [2., 2., 2., 2., 2.],\n",
            "        [2., 2., 2., 2., 2.]], device='cuda:0')\n",
            "n: [[1. 1. 1. 1. 1.]\n",
            " [1. 1. 1. 1. 1.]\n",
            " [1. 1. 1. 1. 1.]]\n"
          ]
        }
      ]
    },
    {
      "cell_type": "markdown",
      "source": [
        "---\n",
        "##⦿   Linear regression 구현\n",
        "  1. 가설(Hypothesis) 수립\n",
        "    - 주어진 데이터에 맞는 가설을 수립\n",
        "    - 예) 키와 체중의 관계는 선형적인 관계를 가지기 때문에 선형 회귀(Linear Regression)\n",
        "    - 예) 개와 고양기 분류는 0(False) 또는 1(True) 이진분류를 가지기 때문에 로지스틱 회귀(Logistic Regression)\n",
        "    - 예) 다양한 객체를 분류하는 문제는 소프트맥스 회귀(Softmax Regression)\n",
        "  2. 손실 or 비용 함수(Cost Function)\n",
        "    - 주어진 문제를 해결하기 위한 목적함수\n",
        "    - Mean Square Error, Cross Entropy Loss 등\n",
        "  3. 최적화(Optimization) 알고리즘\n",
        "    - 주어진 목적함수를 최소화하는 알고리즘\n",
        "    - 경사하강법(Gradient Descent) 등"
      ],
      "metadata": {
        "id": "ltRevIISLjgT"
      }
    },
    {
      "cell_type": "code",
      "source": [
        "import numpy as np\n",
        "import matplotlib.pyplot as plt\n",
        "\n",
        "# 가상의 데이터 준비\n",
        "rng = np.random.RandomState(1)\n",
        "x = 10 * rng.rand(100)\n",
        "y = -5 + 2 * x + (rng.randn(100) - 0.5) * 2\n",
        "plt.scatter(x, y)"
      ],
      "metadata": {
        "id": "j02xaUbkSl8f",
        "colab": {
          "base_uri": "https://localhost:8080/",
          "height": 282
        },
        "outputId": "8a10d846-6d20-4c04-efa2-421c2191fbad"
      },
      "execution_count": 71,
      "outputs": [
        {
          "output_type": "execute_result",
          "data": {
            "text/plain": [
              "<matplotlib.collections.PathCollection at 0x7f4c67d11b10>"
            ]
          },
          "metadata": {},
          "execution_count": 71
        },
        {
          "output_type": "display_data",
          "data": {
            "image/png": "[encoded data removed]",
            "text/plain": [
              "<Figure size 432x288 with 1 Axes>"
            ]
          },
          "metadata": {
            "needs_background": "light"
          }
        }
      ]
    },
    {
      "cell_type": "code",
      "source": [
        "import torch\n",
        "import torch.nn as nn\n",
        "\n",
        "# 학습데이터로 numpy -> torch\n",
        "x_train = torch.from_numpy(x).unsqueeze(0)\n",
        "y_train = torch.from_numpy(y).unsqueeze(0)\n",
        "print(x_train.size(), y_train.size())\n",
        "\n",
        "# 선형 회귀를 위한 학습 파라미터 선언\n",
        "w = torch.zeros(1, requires_grad=True)\n",
        "b = torch.zeros(1, requires_grad=True)\n",
        "print(w, b)\n",
        "\n",
        "# 학습률 설정\n",
        "lr = 0.01\n",
        "end_epoch = 100\n",
        "\n",
        "for epoch in range(end_epoch):\n",
        "  pred = w * x_train + b # 가정한 함수 모양\n",
        "  cost = torch.mean((pred - y_train)**2) # 손실함수\n",
        "  cost.backward() # 역전파\n",
        "  with torch.no_grad():\n",
        "    w = (w - lr * w.grad).requires_grad_(True) # 각 미분값을 통한 Gradient Decsent\n",
        "    b = (b - lr * b.grad).requires_grad_(True) # 각 미분값을 통한 Gradient Decsent   \n",
        "  if epoch % 50 == 0:\n",
        "    print(f\"[{epoch}/{end_epoch}] Loss: {cost.item():.4f}\")\n",
        "    print(f\"\\tw: {w}\")\n",
        "    print(f\"\\tb: {b}\")\n",
        "print(w, b)\n",
        "\n",
        "# 결과 확인\n",
        "# 기존 데이터 출력\n",
        "x = x_train.squeeze().numpy()\n",
        "y = y_train.squeeze().numpy()\n",
        "plt.scatter(x, y)\n",
        "\n",
        "temp_x = np.linspace(0, 10)\n",
        "pred_y = w.detach().numpy()*temp_x + b.detach().numpy()\n",
        "plt.plot(temp_x, pred_y, color=\"red\")"
      ],
      "metadata": {
        "colab": {
          "base_uri": "https://localhost:8080/",
          "height": 435
        },
        "id": "oMJeBK5Xyu6L",
        "outputId": "a263bfd1-b426-4d63-fdb8-a15f03fa24a6"
      },
      "execution_count": 117,
      "outputs": [
        {
          "output_type": "stream",
          "name": "stdout",
          "text": [
            "torch.Size([1, 100]) torch.Size([1, 100])\n",
            "tensor([0.], requires_grad=True) tensor([0.], requires_grad=True)\n",
            "[0/100] Loss: 50.8132\n",
            "\tw: tensor([0.7133], requires_grad=True)\n",
            "\tb: tensor([0.0777], requires_grad=True)\n",
            "[50/100] Loss: 8.3339\n",
            "\tw: tensor([1.2768], requires_grad=True)\n",
            "\tb: tensor([-1.1767], requires_grad=True)\n",
            "tensor([1.4269], requires_grad=True) tensor([-2.1657], requires_grad=True)\n"
          ]
        },
        {
          "output_type": "execute_result",
          "data": {
            "text/plain": [
              "[<matplotlib.lines.Line2D at 0x7f4c66c1de90>]"
            ]
          },
          "metadata": {},
          "execution_count": 117
        },
        {
          "output_type": "display_data",
          "data": {
            "image/png": "[encoded data removed]",
            "text/plain": [
              "<Figure size 432x288 with 1 Axes>"
            ]
          },
          "metadata": {
            "needs_background": "light"
          }
        }
      ]
    },
    {
      "cell_type": "markdown",
      "source": [
        "---\n",
        "##⦿   \bL\bogistic regression 구현"
      ],
      "metadata": {
        "id": "GZOo_Ma0THG9"
      }
    },
    {
      "cell_type": "code",
      "source": [
        "import numpy as np\n",
        "import matplotlib.pyplot as plt\n",
        "\n",
        "def sigmoid(x):\n",
        "    return 1 / (1 +np.exp(-x))\n",
        "\n",
        "# 가상의 데이터 준비\n",
        "rng = np.random.RandomState(1)\n",
        "x = (rng.rand(50) - 0.5) * 10\n",
        "print(x.min(), x.max())\n",
        "temp_y = sigmoid(x)\n",
        "\n",
        "temp_y[temp_y >=0.5] = 1\n",
        "temp_y[temp_y < 0.5] = 0\n",
        "y = temp_y.copy()\n",
        "plt.scatter(x, y)"
      ],
      "metadata": {
        "id": "mOGB2mqlTI3E",
        "colab": {
          "base_uri": "https://localhost:8080/",
          "height": 299
        },
        "outputId": "ed3ca5de-80ab-431b-b290-da70d0518fad"
      },
      "execution_count": 135,
      "outputs": [
        {
          "output_type": "stream",
          "name": "stdout",
          "text": [
            "-4.998856251826551 4.888610889064947\n"
          ]
        },
        {
          "output_type": "execute_result",
          "data": {
            "text/plain": [
              "<matplotlib.collections.PathCollection at 0x7f4c66b59110>"
            ]
          },
          "metadata": {},
          "execution_count": 135
        },
        {
          "output_type": "display_data",
          "data": {
            "image/png": "[encoded data removed]",
            "text/plain": [
              "<Figure size 432x288 with 1 Axes>"
            ]
          },
          "metadata": {
            "needs_background": "light"
          }
        }
      ]
    },
    {
      "cell_type": "code",
      "source": [
        "import torch\n",
        "import torch.nn as nn\n",
        "\n",
        "# 학습데이터로 numpy -> torch\n",
        "x_train = torch.from_numpy(x).unsqueeze(0)\n",
        "y_train = torch.from_numpy(y).unsqueeze(0)\n",
        "print(x_train.size(), y_train.size())\n",
        "\n",
        "# 모델 초기화\n",
        "w = torch.zeros(1, requires_grad=True)\n",
        "b = torch.zeros(1, requires_grad=True)\n",
        "# optimizer 설정\n",
        "optimizer = torch.optim.SGD([w, b], lr=1)\n",
        "\n",
        "# 학습률 설정\n",
        "lr = 0.01\n",
        "end_epoch = 100\n",
        "\n",
        "for epoch in range(end_epoch):\n",
        "  # Cost 계산\n",
        "  pred = torch.sigmoid(x_train*w + b)\n",
        "  cost = -(y_train * torch.log(pred) + (1 - y_train) * torch.log(1 - pred)).mean()\n",
        "  # cost로 H(x) 개선\n",
        "  optimizer.zero_grad()\n",
        "  cost.backward()\n",
        "  optimizer.step() \n",
        "  if epoch % 50 == 0:\n",
        "    print(f\"[{epoch}/{end_epoch}] Loss: {cost.item():.4f}\")\n",
        "print(w, b)\n",
        "\n",
        "# 결과 확인\n",
        "# 기존 데이터 출력\n",
        "x = x_train.squeeze().numpy()\n",
        "y = y_train.squeeze().numpy()\n",
        "plt.scatter(x, y)\n",
        "\n",
        "temp_x = np.linspace(-5, 5)\n",
        "pred_y = sigmoid(w.detach().numpy()*temp_x + b.detach().numpy())\n",
        "plt.plot(temp_x, pred_y, color=\"red\")"
      ],
      "metadata": {
        "colab": {
          "base_uri": "https://localhost:8080/",
          "height": 350
        },
        "id": "q2NbYlbO8m3O",
        "outputId": "8126ea4c-6767-4885-bb8d-b6c16c6b95fa"
      },
      "execution_count": 139,
      "outputs": [
        {
          "output_type": "stream",
          "name": "stdout",
          "text": [
            "torch.Size([1, 50]) torch.Size([1, 50])\n",
            "[0/100] Loss: 0.6931\n",
            "[50/100] Loss: 0.0295\n",
            "tensor([3.5241], requires_grad=True) tensor([0.0883], requires_grad=True)\n"
          ]
        },
        {
          "output_type": "execute_result",
          "data": {
            "text/plain": [
              "[<matplotlib.lines.Line2D at 0x7f4c668cef10>]"
            ]
          },
          "metadata": {},
          "execution_count": 139
        },
        {
          "output_type": "display_data",
          "data": {
            "image/png": "[encoded data removed]",
            "text/plain": [
              "<Figure size 432x288 with 1 Axes>"
            ]
          },
          "metadata": {
            "needs_background": "light"
          }
        }
      ]
    },
    {
      "cell_type": "markdown",
      "source": [
        "* https://wikidocs.net/72986\n",
        "* https://greeksharifa.github.io/pytorch/2018/11/02/pytorch-usage-02-Linear-Regression-Model/\n",
        "* https://towardsdatascience.com/linear-regression-with-pytorch-eb6dedead817\n",
        "* https://wikidocs.net/53560"
      ],
      "metadata": {
        "id": "l0roORn11jDL"
      }
    },
    {
      "cell_type": "code",
      "source": [
        ""
      ],
      "metadata": {
        "id": "TNwx_MGy1q73"
      },
      "execution_count": null,
      "outputs": []
    }
  ]
}