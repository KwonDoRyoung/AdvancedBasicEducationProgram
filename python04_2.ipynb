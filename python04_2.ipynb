{
  "nbformat": 4,
  "nbformat_minor": 0,
  "metadata": {
    "colab": {
      "name": "python04_2.ipynb",
      "provenance": [],
      "collapsed_sections": [],
      "authorship_tag": "ABX9TyOLGtY+669I9ETXR6zDKYch",
      "include_colab_link": true
    },
    "kernelspec": {
      "name": "python3",
      "display_name": "Python 3"
    },
    "language_info": {
      "name": "python"
    }
  },
  "cells": [
    {
      "cell_type": "markdown",
      "metadata": {
        "id": "view-in-github",
        "colab_type": "text"
      },
      "source": [
        "<a href=\"https://colab.research.google.com/github/KwonDoRyoung/AdvancedBasicEducationProgram/blob/main/python04_2.ipynb\" target=\"_parent\"><img src=\"https://colab.research.google.com/assets/colab-badge.svg\" alt=\"Open In Colab\"/></a>"
      ]
    },
    {
      "cell_type": "markdown",
      "source": [
        "---\n",
        "#▶︎ 오늘 강의내용\n",
        "*   영상의 기하학적 변형 이해\n",
        "*   잡음과 잡음제거를 위한 필터 이해\n",
        "*   Image Gradient 이해\n",
        "*   커널(Kernel) & 컨볼루션(Convolution) 활용한 Edge 추출\n",
        "*   Gaussian Pyramid란\n",
        "---"
      ],
      "metadata": {
        "id": "b7coSgmPepth"
      }
    },
    {
      "cell_type": "markdown",
      "source": [
        "---\n",
        "##⦿   기하학적 변형 - Transformation\n",
        "  -   영상 내의 객체 사이의 공간적인 관계를 변화하는 것\n",
        "  -   객체를 이동하거나 크기, 모양을 변형하는 것\n",
        "  -   강체변환(Rigid-Body): 크기 및 각도 보존\n",
        "      *   이동(Translation)\n",
        "      *   회전(Rotation)\n",
        "  -   유사변환(Similarity): 각도 보존, 크기 변함 \n",
        "      *   확대 및 축소(Scaling)\n",
        "  -   선형변환: Vector 공간에서의 이동, 이동변환 제외\n",
        "  -   Affine: 선형변환과 이동변환까지 포함, 선의 수평성은 유지\n",
        "  -   Perspective: Affine 변환에 수평성도 유지되지 않음. 원근변환\n",
        "\n",
        "\n",
        "\n",
        "\n"
      ],
      "metadata": {
        "id": "T5F6IOZKa_B2"
      }
    },
    {
      "cell_type": "code",
      "execution_count": 1,
      "metadata": {
        "id": "QUdg8yOkaZTL"
      },
      "outputs": [],
      "source": [
        "import cv2.cv2\n",
        "import numpy as np\n",
        "import matplotlib.pyplot as plt\n",
        "\n"
      ]
    },
    {
      "cell_type": "markdown",
      "source": [
        "---\n",
        "##⦿   기하학적 변형 - Interpolation\n",
        "  -   불연속적인 이미지(Discrete data)에서 확대와 회전은 정보 손실이 발생함\n",
        "  -   정보 손실을 해결을 위해 보간법(Interpolation)을 수행해야 됨\n",
        "      * 최근점 이웃 보간법(Nearest Neighbor Interpolation)\n",
        "      * 선형 보간법(Bilinear Interpolation)"
      ],
      "metadata": {
        "id": "8TyGxXNbeoMl"
      }
    },
    {
      "cell_type": "code",
      "source": [
        ""
      ],
      "metadata": {
        "id": "XV30zvZkfltu"
      },
      "execution_count": null,
      "outputs": []
    },
    {
      "cell_type": "markdown",
      "source": [
        "---\n",
        "⦿   잡음(Noise)\n",
        "  -   \n",
        "      * "
      ],
      "metadata": {
        "id": "z9oiYGw6fcil"
      }
    },
    {
      "cell_type": "code",
      "source": [
        ""
      ],
      "metadata": {
        "id": "qP4Bv4VEfpWH"
      },
      "execution_count": null,
      "outputs": []
    },
    {
      "cell_type": "markdown",
      "source": [
        "---\n",
        "⦿   필터 연산(Convolution)\n",
        "  -   \n",
        "      * "
      ],
      "metadata": {
        "id": "XzWBVeNzfm8L"
      }
    },
    {
      "cell_type": "code",
      "source": [
        ""
      ],
      "metadata": {
        "id": "cFpdr1l3fm04"
      },
      "execution_count": null,
      "outputs": []
    },
    {
      "cell_type": "markdown",
      "source": [
        "---\n",
        "⦿   잡음(Noise) 제거와 필터 연산\n",
        "  -   \n",
        "      * "
      ],
      "metadata": {
        "id": "FO2Nx7L6fmtm"
      }
    },
    {
      "cell_type": "code",
      "source": [
        ""
      ],
      "metadata": {
        "id": "myF-0ho-fmin"
      },
      "execution_count": null,
      "outputs": []
    },
    {
      "cell_type": "markdown",
      "source": [
        "---\n",
        "⦿   Edge detection - Image Gradient\n",
        "  -   \n",
        "      * "
      ],
      "metadata": {
        "id": "CIs0j-VugApN"
      }
    },
    {
      "cell_type": "code",
      "source": [
        ""
      ],
      "metadata": {
        "id": "8QmvB9CBgA66"
      },
      "execution_count": null,
      "outputs": []
    },
    {
      "cell_type": "markdown",
      "source": [
        "---\n",
        "⦿   Edge Detection - 1차 미분(1st order gradient)\n",
        "  -   \n",
        "      * "
      ],
      "metadata": {
        "id": "kbIURRZ7gPC3"
      }
    },
    {
      "cell_type": "code",
      "source": [
        ""
      ],
      "metadata": {
        "id": "iCvch31ggO6T"
      },
      "execution_count": null,
      "outputs": []
    },
    {
      "cell_type": "markdown",
      "source": [
        "---\n",
        "⦿   Edge Detection - 2차 미분(2nd order gradient)\n",
        "  -   \n",
        "      * "
      ],
      "metadata": {
        "id": "YxEQUkndgZvt"
      }
    },
    {
      "cell_type": "code",
      "source": [
        ""
      ],
      "metadata": {
        "id": "H9u_PX78gbrF"
      },
      "execution_count": null,
      "outputs": []
    },
    {
      "cell_type": "markdown",
      "source": [
        "---\n",
        "⦿   Gaussian Pyramid\n",
        "  -   \n",
        "      * "
      ],
      "metadata": {
        "id": "Dzv0dJ9ugcLj"
      }
    },
    {
      "cell_type": "code",
      "source": [
        ""
      ],
      "metadata": {
        "id": "CBqSPX6Uggiz"
      },
      "execution_count": null,
      "outputs": []
    }
  ]
}