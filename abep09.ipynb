{
  "nbformat": 4,
  "nbformat_minor": 0,
  "metadata": {
    "colab": {
      "name": "abep09.ipynb",
      "provenance": [],
      "collapsed_sections": [],
      "authorship_tag": "ABX9TyPegR5v8rEbW4onmPrCuxP3",
      "include_colab_link": true
    },
    "kernelspec": {
      "name": "python3",
      "display_name": "Python 3"
    },
    "language_info": {
      "name": "python"
    },
    "accelerator": "GPU"
  },
  "cells": [
    {
      "cell_type": "markdown",
      "metadata": {
        "id": "view-in-github",
        "colab_type": "text"
      },
      "source": [
        "<a href=\"https://colab.research.google.com/github/KwonDoRyoung/AdvancedBasicEducationProgram/blob/main/abep09.ipynb\" target=\"_parent\"><img src=\"https://colab.research.google.com/assets/colab-badge.svg\" alt=\"Open In Colab\"/></a>"
      ]
    },
    {
      "cell_type": "markdown",
      "source": [
        "# 인공지능\n",
        "- 인공지능의 학습 및 활용을 위한 코딩은 3 단계로 이루어진다.\n",
        "  1. 데이터 수집 및 전처리\n",
        "    - Task에 맞는 데이터를 수집\n",
        "    - 학습에 알맞은 형태로 데이터를 검수 및 분할(Train & Validation)\n",
        "      - Validation 은 Train 과 겹치면 안됨.\n",
        "    - Normalize, 데이터 강화, 데이터 분석, 불필요한 정보 삭제 등\n",
        "    - Open dataset 활용을 권장\n",
        "      - 딥러닝은 대용량(빅) 데이터기반에서 매우 효과적임\n",
        "      - 오픈 데이터셋으로 학습 후, 적은 데이터(수집한 데이터 등)로 Fine-tuning을 하는 것이 일반화 성능에서 좋음 \n",
        "    ---\n",
        "  2. 인공지능 모델 학습\n",
        "    - 모델 생성(nn.Module) 및 선언\n",
        "    - 학습 및 평가를 위한 데이터 클래스 생성(Dataset)\n",
        "      1. Pytorch에서 만들어둔 함수 또는 클래스 활용\n",
        "      2. 수집된 데이터를 위한 Custom 데이터셋 클래스 생성\n",
        "    - 학습을 위한 mini-batch 함수 호출(DataLoader)\n",
        "    - 손실 함수(Objective Function or Criterion) 선언\n",
        "      - 주어진 Task에 따라서 달라짐\n",
        "      - 분류에서는 대표적으로 Cross Entropy Loss\n",
        "      - 회귀에서는 대표적으로 Mean Square Error\n",
        "    - 최적화 기법(Optimization) 선언(torch.optim)\n",
        "      - 주어진 손실함수의 최소지점을 찾기 위한 기법\n",
        "      - 대표적으로 Gradient Descent 방식이 있음\n",
        "    - 반복문 for를 활용한 반복 학습 및 Overfitting 방지를 위한 자체 평가 단계\n",
        "      - 데이터를 한번만 봐서는 학습되지 않음 > 반복학습\n",
        "      - 반복학습을 하면 모델이 학습데이터에 의존적으로 변할 수 있음. 특히 적은 데이터에서 두드러짐.\n",
        "        - 일반화 성능과 학습의 정도를 파악하기 위해 Validation 데이터로 평가를 진행\n",
        "    ---\n",
        "  3. 인공지능 모델 평가\n",
        "    - 테스트 데이터를 통한 평가 단계 "
      ],
      "metadata": {
        "id": "-vtPNVRLpAq3"
      }
    },
    {
      "cell_type": "markdown",
      "source": [
        "## 1. 모델 생성(nn.Module) 및 선언 - 분류(Classification) 인공지능 신경망 선언\n",
        "    \n",
        "- nn.Module 은 Pytorch 에서 제공하는 인공신경망 클래스\n",
        "- 직접 Backpropagation 연산을 선언할 필요없음\n",
        "- Python의 상속을 이용\n",
        "- def __init__(self, *):\n",
        "  - 만들고자 하는 신경망의 구조를 선언하는 부분\n",
        "  - nn에 있는 클래스를 활용하여 구조를 만들어야됨\n",
        "- def forward(self, inputs, *):\n",
        "  - __init__ 에서 선언한 구조들의 흐름을 만드는 곳\n",
        "  - 신경망에 입력(inputs)을 넣어서 출력을 도출할 수 있음(함수의 return 인자를 활용)\n",
        "- 다른 함수를 클래스 밑에 정의할 수 있음\n",
        "-----\n",
        "기본구조는\n",
        "```python \n",
        "class <신경망의 이름>(nn.Module):\n",
        "  def __init__(self, 매개변수1, 매개변수2, ...):\n",
        "    # 신경망 구조 선언\n",
        "    self.layer1 = nn.Linear(...)\n",
        "    self.layer2 = nn....\n",
        "    ...\n",
        "    self.layer_n = nn....\n",
        "\n",
        "  def forward(self, inputs, 매개변수1, ...):\n",
        "    # 위에서 선언한 신경망 호출\n",
        "    x = self.layer(inputs)\n",
        "    x = self.layer2(x)\n",
        "    ...\n",
        "    x = self.layer_n(x)\n",
        "    return x\n",
        "```\n",
        "\n",
        "### Multi-layer perceptron\n",
        "- Pytroch 에서는 nn.Linear와 활성화 함수를 조합하여 만들 수 있음\n",
        "\n",
        "  ![nn_p](./markdown_images/nn_p_t.png)\n",
        "- 활성화 함수는 신경망에 있어서 중요함.\n",
        "  - 선형 조합을 비선형 조합으로 변경시켜 복잡한 문제에도 일반화가 가능함\n",
        "  - Sigmoid, ReLU, PReLU, GLU 등 다양함\n",
        "  - https://pytorch.org/docs/stable/nn.html#non-linear-activations-weighted-sum-nonlinearity"
      ],
      "metadata": {
        "id": "wEPF_2HQpNrH"
      }
    },
    {
      "cell_type": "code",
      "source": [
        "import torch.nn as nn\n",
        "\n",
        "class MLP(nn.Module): \n",
        "  def __init__(self,):\n",
        "    super(MLP, self).__init__()\n",
        "    # 1st layer 선언\n",
        "    self.layer1 = nn.Linear(784, 100, bias=False)\n",
        "    self.activation1 = nn.Sigmoid()\n",
        "    # 2nd layer 선언\n",
        "    self.layer2 = nn.Linear(100, 10, bias=False)\n",
        "    self.activation2 = nn.Sigmoid()\n",
        "    # 3rd layer 선언\n",
        "    self.layer3 = nn.Linear(10, 10, bias=False)\n",
        "  \n",
        "  def forward(self, inputs):\n",
        "    # 1st layer 입력\n",
        "    outputs = self.layer1(inputs)\n",
        "    outputs = self.activation1(outputs)\n",
        "    # 2nd layer 입력\n",
        "    outputs = self.layer2(outputs)\n",
        "    outputs = self.activation2(outputs)\n",
        "    # 3rd layer 입력\n",
        "    outputs = self.layer3(outputs)\n",
        "    return outputs\n",
        "\n",
        "# 모델 선언\n",
        "model2 = MLP().to(\"cuda\")"
      ],
      "metadata": {
        "id": "uB5G6740pJUa"
      },
      "execution_count": 1,
      "outputs": []
    },
    {
      "cell_type": "markdown",
      "source": [
        "## 2. 학습 및 평가를 위한 데이터 클래스 생성(Dataset)과 학습을 위한 mini-batch 함수 호출(DataLoader)\n",
        "    "
      ],
      "metadata": {
        "id": "DY359Bt_wi7L"
      }
    },
    {
      "cell_type": "code",
      "source": [
        "import torch.utils.data\n",
        "import torchvision.transforms as T\n",
        "\n",
        "from torchvision.datasets import MNIST\n",
        "\n",
        "## MNIST: 손글씨, 아라비아 숫자에 대한, 0 ~ 9\n",
        "train_dataset = MNIST(root=\"/content/\", transform=T.Compose([T.ToTensor()]), download=True)\n",
        "test_dataset = MNIST(root=\"/content/\", transform=T.Compose([T.ToTensor()]), train=False)\n",
        "# batch size 만큼 묶어주는 함수가 필요.\n",
        "# train_dataset[index] 호출 -> (image data, image target)\n",
        "\n",
        "print(f\"data 1st:{train_dataset[0][0].size()}, {train_dataset[0][1]}\") # 데이터를 통해 batch learning\n",
        "\n",
        "batch_size = 32\n",
        "\n",
        "train_loader = torch.utils.data.DataLoader(train_dataset, batch_size=batch_size, shuffle=True) # batch size 32~64,... \n",
        "test_loader = torch.utils.data.DataLoader(test_dataset, batch_size=1, shuffle=False)"
      ],
      "metadata": {
        "colab": {
          "base_uri": "https://localhost:8080/"
        },
        "id": "p6LPTEt6whRI",
        "outputId": "e466d109-7f6b-4c5a-993a-abc20bb462a5"
      },
      "execution_count": 2,
      "outputs": [
        {
          "output_type": "stream",
          "name": "stdout",
          "text": [
            "data 1st:torch.Size([1, 28, 28]), 5\n"
          ]
        }
      ]
    },
    {
      "cell_type": "markdown",
      "source": [
        "## 3. 손실 함수(Objective Function or Criterion) 선언\n",
        "    "
      ],
      "metadata": {
        "id": "6FlT7ee31jzI"
      }
    },
    {
      "cell_type": "code",
      "source": [
        "criterion = nn.CrossEntropyLoss()"
      ],
      "metadata": {
        "id": "xPW1upnn4PwZ"
      },
      "execution_count": 3,
      "outputs": []
    },
    {
      "cell_type": "markdown",
      "source": [
        "## 4. 최적화 기법(Optimization) 선언(torch.optim)"
      ],
      "metadata": {
        "id": "XEB4OebJ4PBl"
      }
    },
    {
      "cell_type": "code",
      "source": [
        "lr=0.01\n",
        "optimizer = torch.optim.SGD(model2.parameters(), lr=lr)"
      ],
      "metadata": {
        "id": "kZkICl1v4WGx"
      },
      "execution_count": 4,
      "outputs": []
    },
    {
      "cell_type": "markdown",
      "source": [
        "## 5. 반복문 for를 활용한 반복 학습 및 Overfitting 방지를 위한 자체 평가 단계"
      ],
      "metadata": {
        "id": "qewQJKDD4WcK"
      }
    },
    {
      "cell_type": "code",
      "execution_count": null,
      "metadata": {
        "colab": {
          "base_uri": "https://localhost:8080/"
        },
        "id": "xkQcDTz4ofQ2",
        "outputId": "69533587-7a44-4b49-df0e-8257866cec69"
      },
      "outputs": [
        {
          "output_type": "stream",
          "name": "stdout",
          "text": [
            "Train & Validation\n",
            "\t[0] Loss: 2.4107\n",
            "\t[1000] Loss: 2.2869\n",
            "[0/100] Train loss: 2.2995\n",
            "10000\n",
            "Valid Loss: 2.2910, Accuracy: 11.35%\n",
            "====================================================================================================\n",
            "\t[0] Loss: 2.2733\n",
            "\t[1000] Loss: 2.2809\n",
            "[1/100] Train loss: 2.2822\n",
            "10000\n",
            "Valid Loss: 2.2679, Accuracy: 14.51%\n",
            "====================================================================================================\n",
            "\t[0] Loss: 2.2622\n",
            "\t[1000] Loss: 2.2323\n",
            "[2/100] Train loss: 2.2338\n",
            "10000\n",
            "Valid Loss: 2.1715, Accuracy: 33.03%\n",
            "====================================================================================================\n",
            "\t[0] Loss: 2.0963\n",
            "\t[1000] Loss: 1.9917\n",
            "[3/100] Train loss: 2.0292\n"
          ]
        }
      ],
      "source": [
        "n_epoch = 100\n",
        "print(\"Train & Validation\")\n",
        "for epoch in range(n_epoch):\n",
        "  model2.train() # 여기서부터는 학습 Flag\n",
        "  train_loss = 0\n",
        "  for step, x in enumerate(train_loader): # 한번 데이터를 다 보는 거 (batch0, batch1, batch2, ...,batch_m)\n",
        "    batch_image = x[0] # torch.Size([batch_size, 1, 28, 28]): dim=4\n",
        "    batch_image = torch.flatten(batch_image, start_dim=1).to(\"cuda\")\n",
        "    batch_target = x[1].to(\"cuda\")\n",
        "    outputs = model2(batch_image) # forward 함수를 활용\n",
        "\n",
        "    loss = criterion(outputs, batch_target)\n",
        "    \n",
        "    train_loss += loss # 추가된 라인\n",
        "\n",
        "    # 학습을 진행하는 곳\n",
        "    optimizer.zero_grad()\n",
        "    loss.backward() # 역전파 -> 미분값이 저장\n",
        "    optimizer.step() # 미분값이 저장을 활용해서 최적화\n",
        "\n",
        "    if step % 1000 == 0: \n",
        "      print(f\"\\t[{step}] Loss: {loss.item():.4f}\")\n",
        "\n",
        "  train_loss = train_loss/len(train_loader)\n",
        "  print(f\"[{epoch}/{n_epoch}] Train loss: {train_loss.item():.4f}\")\n",
        "\n",
        "  model2.eval() # 여기서부터는 평가 Flag\n",
        "  valid_loss = 0\n",
        "  total_accuracy = 0.0\n",
        "  for i, v in enumerate(test_loader):\n",
        "    batch_image = v[0] \n",
        "    batch_image = torch.flatten(batch_image, start_dim=1).to(\"cuda\")\n",
        "    batch_target = v[1].to(\"cuda\")\n",
        "    outputs = model2(batch_image) # forward 함수를 활용\n",
        "\n",
        "    loss = criterion(outputs, batch_target)\n",
        "\n",
        "    valid_loss += loss    \n",
        "    correct = batch_target == torch.argmax(outputs, dim=1)\n",
        "    total_accuracy += correct.float()\n",
        "\n",
        "  print(len(test_loader))\n",
        "  valid_loss = valid_loss/len(test_loader)\n",
        "  total_accuracy = (total_accuracy/len(test_loader))*100\n",
        "  print(f\"Valid Loss: {valid_loss.item():.4f}, Accuracy: {total_accuracy.item():.2f}%\")\n",
        "  print(\"=\"*100)"
      ]
    },
    {
      "cell_type": "code",
      "source": [
        ""
      ],
      "metadata": {
        "id": "jrAdTZAw4g-3"
      },
      "execution_count": null,
      "outputs": []
    }
  ]
}